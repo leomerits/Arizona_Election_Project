{
 "cells": [
  {
   "cell_type": "code",
   "execution_count": 1,
   "id": "8f25bcd2",
   "metadata": {},
   "outputs": [],
   "source": [
    "import lux\n",
    "import pandas as pd\n",
    "import numpy as np"
   ]
  },
  {
   "cell_type": "code",
   "execution_count": 2,
   "id": "27a6320f",
   "metadata": {},
   "outputs": [
    {
     "data": {
      "application/vnd.jupyter.widget-view+json": {
       "model_id": "fae718438ac543278ddfed06f5303f70",
       "version_major": 2,
       "version_minor": 0
      },
      "text/plain": [
       "Button(description='Toggle Pandas/Lux', layout=Layout(top='5px', width='140px'), style=ButtonStyle())"
      ]
     },
     "metadata": {},
     "output_type": "display_data"
    },
    {
     "data": {
      "application/vnd.jupyter.widget-view+json": {
       "model_id": "b02329799f3c43cca0447884d509c74d",
       "version_major": 2,
       "version_minor": 0
      },
      "text/plain": [
       "Output()"
      ]
     },
     "metadata": {},
     "output_type": "display_data"
    }
   ],
   "source": [
    "df = pd.read_csv(\"/Users/joshzaragoza/Arizona_Election_Project/Resources/Voter Data/Leg_District_4_clean.csv\")\n",
    "df"
   ]
  },
  {
   "cell_type": "code",
   "execution_count": 3,
   "id": "32457d82",
   "metadata": {},
   "outputs": [
    {
     "data": {
      "application/vnd.jupyter.widget-view+json": {
       "model_id": "b5469e105f8246738ddea32f0e980c1d",
       "version_major": 2,
       "version_minor": 0
      },
      "text/plain": [
       "Button(description='Toggle Pandas/Lux', layout=Layout(top='5px', width='140px'), style=ButtonStyle())"
      ]
     },
     "metadata": {},
     "output_type": "display_data"
    },
    {
     "data": {
      "application/vnd.jupyter.widget-view+json": {
       "model_id": "13569bd6494147efb614baf54321ea26",
       "version_major": 2,
       "version_minor": 0
      },
      "text/plain": [
       "Output()"
      ]
     },
     "metadata": {},
     "output_type": "display_data"
    }
   ],
   "source": [
    "df.count()"
   ]
  },
  {
   "cell_type": "code",
   "execution_count": 4,
   "id": "efa713d8",
   "metadata": {},
   "outputs": [
    {
     "name": "stdout",
     "output_type": "stream",
     "text": [
      "Party                object\n",
      "Sex                  object\n",
      "Age                   int64\n",
      "Ethnicity            object\n",
      "Voter Score         float64\n",
      "Turnout Score       float64\n",
      "Kids in HH          float64\n",
      "Liberal Ideology    float64\n",
      "Zip                   int64\n",
      "dtype: object\n"
     ]
    }
   ],
   "source": [
    "df.dtypes"
   ]
  },
  {
   "cell_type": "code",
   "execution_count": 5,
   "id": "ff0f6f63",
   "metadata": {},
   "outputs": [
    {
     "data": {
      "application/vnd.jupyter.widget-view+json": {
       "model_id": "c53a20f13f344050891ce76a104f0d38",
       "version_major": 2,
       "version_minor": 0
      },
      "text/plain": [
       "Button(description='Toggle Pandas/Lux', layout=Layout(top='5px', width='140px'), style=ButtonStyle())"
      ]
     },
     "metadata": {},
     "output_type": "display_data"
    },
    {
     "data": {
      "application/vnd.jupyter.widget-view+json": {
       "model_id": "46d26055b7814e11bec78f8ab5b083a7",
       "version_major": 2,
       "version_minor": 0
      },
      "text/plain": [
       "Output()"
      ]
     },
     "metadata": {},
     "output_type": "display_data"
    }
   ],
   "source": [
    "df.isnull()"
   ]
  },
  {
   "cell_type": "code",
   "execution_count": 6,
   "id": "27c4e128",
   "metadata": {},
   "outputs": [],
   "source": [
    "#drop any null or nan in the data frame \n",
    "df.dropna(axis = 0, how = \"any\", thresh = None, subset = None, inplace=True)"
   ]
  },
  {
   "cell_type": "code",
   "execution_count": 7,
   "id": "9b6342d7",
   "metadata": {},
   "outputs": [
    {
     "data": {
      "application/vnd.jupyter.widget-view+json": {
       "model_id": "0670e986363c4578a798595dfa185a80",
       "version_major": 2,
       "version_minor": 0
      },
      "text/plain": [
       "Button(description='Toggle Pandas/Lux', layout=Layout(top='5px', width='140px'), style=ButtonStyle())"
      ]
     },
     "metadata": {},
     "output_type": "display_data"
    },
    {
     "data": {
      "application/vnd.jupyter.widget-view+json": {
       "model_id": "6afac8a714e34c7c863530848d21dd06",
       "version_major": 2,
       "version_minor": 0
      },
      "text/plain": [
       "Output()"
      ]
     },
     "metadata": {},
     "output_type": "display_data"
    }
   ],
   "source": [
    "df.isnull().sum()"
   ]
  },
  {
   "cell_type": "code",
   "execution_count": 8,
   "id": "02c30a20",
   "metadata": {},
   "outputs": [
    {
     "data": {
      "application/vnd.jupyter.widget-view+json": {
       "model_id": "ad517fb98533401fa030154f8f5d7970",
       "version_major": 2,
       "version_minor": 0
      },
      "text/plain": [
       "Button(description='Toggle Pandas/Lux', layout=Layout(top='5px', width='140px'), style=ButtonStyle())"
      ]
     },
     "metadata": {},
     "output_type": "display_data"
    },
    {
     "data": {
      "application/vnd.jupyter.widget-view+json": {
       "model_id": "16a1350cbc0f4fcf8747ab8ca9a4f782",
       "version_major": 2,
       "version_minor": 0
      },
      "text/plain": [
       "Output()"
      ]
     },
     "metadata": {},
     "output_type": "display_data"
    }
   ],
   "source": [
    "df = df.astype({'Voter Score':'int','Turnout Score':'int','Kids in HH':'int','Liberal Ideology':'int'})\n",
    "df"
   ]
  },
  {
   "cell_type": "code",
   "execution_count": 10,
   "id": "af5aeb72",
   "metadata": {
    "scrolled": true
   },
   "outputs": [
    {
     "data": {
      "application/vnd.jupyter.widget-view+json": {
       "model_id": "ba1c7e63154547f5af7b8ef64c24724e",
       "version_major": 2,
       "version_minor": 0
      },
      "text/plain": [
       "Button(description='Toggle Pandas/Lux', layout=Layout(top='5px', width='140px'), style=ButtonStyle())"
      ]
     },
     "metadata": {},
     "output_type": "display_data"
    },
    {
     "data": {
      "application/vnd.jupyter.widget-view+json": {
       "model_id": "95a7429bcd604c85bfc373429439225e",
       "version_major": 2,
       "version_minor": 0
      },
      "text/plain": [
       "Output()"
      ]
     },
     "metadata": {},
     "output_type": "display_data"
    }
   ],
   "source": [
    "df.intent = [\"Age\",\"Voter Score\"]\n",
    "df"
   ]
  },
  {
   "cell_type": "code",
   "execution_count": 12,
   "id": "1cfb3de6",
   "metadata": {},
   "outputs": [
    {
     "data": {
      "application/vnd.jupyter.widget-view+json": {
       "model_id": "c5fc460ae1f84f63ab5e6e2b2c0799d6",
       "version_major": 2,
       "version_minor": 0
      },
      "text/plain": [
       "LuxWidget(current_vis={'config': {'view': {'continuousWidth': 400, 'continuousHeight': 300}, 'axis': {'labelCo…"
      ]
     },
     "metadata": {},
     "output_type": "display_data"
    }
   ],
   "source": [
    "vis = df.exported[0]\n",
    "vis"
   ]
  },
  {
   "cell_type": "code",
   "execution_count": 14,
   "id": "235a9633",
   "metadata": {
    "scrolled": true
   },
   "outputs": [
    {
     "data": {
      "application/vnd.jupyter.widget-view+json": {
       "model_id": "c4fc6d815e34471aa8f0c1744a278f2f",
       "version_major": 2,
       "version_minor": 0
      },
      "text/plain": [
       "Button(description='Toggle Pandas/Lux', layout=Layout(top='5px', width='140px'), style=ButtonStyle())"
      ]
     },
     "metadata": {},
     "output_type": "display_data"
    },
    {
     "data": {
      "application/vnd.jupyter.widget-view+json": {
       "model_id": "e921bafbbe034964bb6cc0dc7e5c1363",
       "version_major": 2,
       "version_minor": 0
      },
      "text/plain": [
       "Output()"
      ]
     },
     "metadata": {},
     "output_type": "display_data"
    }
   ],
   "source": [
    "df.intent = [\"Ethnicity\",\"Voter Score\"]\n",
    "df"
   ]
  },
  {
   "cell_type": "code",
   "execution_count": 15,
   "id": "d337ef84",
   "metadata": {},
   "outputs": [
    {
     "data": {
      "application/vnd.jupyter.widget-view+json": {
       "model_id": "86fd436d5dad452bb74b0c0393516940",
       "version_major": 2,
       "version_minor": 0
      },
      "text/plain": [
       "LuxWidget(current_vis={'config': {'view': {'continuousWidth': 400, 'continuousHeight': 300}, 'axis': {'labelCo…"
      ]
     },
     "metadata": {},
     "output_type": "display_data"
    }
   ],
   "source": [
    "vis = df.exported[0]\n",
    "vis"
   ]
  },
  {
   "cell_type": "code",
   "execution_count": 23,
   "id": "0fe420bc",
   "metadata": {},
   "outputs": [
    {
     "name": "stdout",
     "output_type": "stream",
     "text": [
      "import matplotlib.pyplot as plt\n",
      "plt.rcParams.update(\n",
      "            {\n",
      "                \"axes.titlesize\": 20,\n",
      "                \"axes.titleweight\": \"bold\",\n",
      "                \"axes.labelweight\": \"bold\",\n",
      "                \"axes.labelsize\": 16,\n",
      "                \"legend.fontsize\": 14,\n",
      "                \"legend.title_fontsize\": 15,\n",
      "                \"xtick.labelsize\": 13,\n",
      "                \"ytick.labelsize\": 13,\n",
      "            }\n",
      "        )\n",
      "import numpy as np\n",
      "from math import nan\n",
      "df = pd.DataFrame({'Ethnicity': {0: 'African-American', 1: 'Asian', 2: 'Caucasian', 3: 'Hispanic', 4: 'Native American', 5: 'Uncoded'}, 'Voter Score': {0: 65.10795454545455, 1: 60.2531328320802, 2: 43.03702494373375, 3: 65.88552188552188, 4: 60.93181818181818, 5: 58.858451072736784}})\n",
      "fig, ax = plt.subplots()\n",
      "bars = df['Ethnicity']\n",
      "measurements = df['Voter Score']\n",
      "ax.barh(0    African-American\n",
      "1               Asian\n",
      "2           Caucasian\n",
      "3            Hispanic\n",
      "4     Native American\n",
      "5             Uncoded\n",
      "Name: Ethnicity, dtype: object, 0    65.107955\n",
      "1    60.253133\n",
      "2    43.037025\n",
      "3    65.885522\n",
      "4    60.931818\n",
      "5    58.858451\n",
      "Name: Voter Score, dtype: float64, align='center')\n",
      "ax.set_xlabel('Voter Score')\n",
      "ax.set_ylabel('Ethnicity')\n",
      "\n",
      "fig\n"
     ]
    }
   ],
   "source": [
    "print (vis.to_matplotlib())"
   ]
  },
  {
   "cell_type": "code",
   "execution_count": 24,
   "id": "f74a5b7b",
   "metadata": {},
   "outputs": [
    {
     "ename": "SyntaxError",
     "evalue": "invalid syntax (2899538978.py, line 20)",
     "output_type": "error",
     "traceback": [
      "\u001b[0;36m  File \u001b[0;32m\"/var/folders/_z/0nc1ctm17js4mlgc9hwnzk200000gn/T/ipykernel_73224/2899538978.py\"\u001b[0;36m, line \u001b[0;32m20\u001b[0m\n\u001b[0;31m    ax.barh(0    African-American\u001b[0m\n\u001b[0m                 ^\u001b[0m\n\u001b[0;31mSyntaxError\u001b[0m\u001b[0;31m:\u001b[0m invalid syntax\n"
     ]
    }
   ],
   "source": [
    "import matplotlib.pyplot as plt\n",
    "plt.rcParams.update(\n",
    "            {\n",
    "                \"axes.titlesize\": 20,\n",
    "                \"axes.titleweight\": \"bold\",\n",
    "                \"axes.labelweight\": \"bold\",\n",
    "                \"axes.labelsize\": 16,\n",
    "                \"legend.fontsize\": 14,\n",
    "                \"legend.title_fontsize\": 15,\n",
    "                \"xtick.labelsize\": 13,\n",
    "                \"ytick.labelsize\": 13,\n",
    "            }\n",
    "        )\n",
    "import numpy as np\n",
    "from math import nan\n",
    "df = pd.DataFrame({'Ethnicity': {0: 'African-American', 1: 'Asian', 2: 'Caucasian', 3: 'Hispanic', 4: 'Native American', 5: 'Uncoded'}, 'Voter Score': {0: 65.10795454545455, 1: 60.2531328320802, 2: 43.03702494373375, 3: 65.88552188552188, 4: 60.93181818181818, 5: 58.858451072736784}})\n",
    "fig, ax = plt.subplots()\n",
    "bars = df['Ethnicity']\n",
    "measurements = df['Voter Score']\n",
    "ax.barh(0    African-American\n",
    "1               Asian\n",
    "2           Caucasian\n",
    "3            Hispanic\n",
    "4     Native American\n",
    "5             Uncoded\n",
    "Name: Ethnicity, dtype: object, 0    65.107955\n",
    "1    60.253133\n",
    "2    43.037025\n",
    "3    65.885522\n",
    "4    60.931818\n",
    "5    58.858451\n",
    "Name: Voter Score, dtype: float64, align='center')\n",
    "ax.set_xlabel('Voter Score')\n",
    "ax.set_ylabel('Ethnicity')\n",
    "\n",
    "fig"
   ]
  },
  {
   "cell_type": "code",
   "execution_count": null,
   "id": "18b3fcd6",
   "metadata": {},
   "outputs": [],
   "source": [
    "# Create a list of our conditions\n",
    "conditions = [\n",
    "    (df2['Voter Score'] <= 34),\n",
    "    (df2['Voter Score'] >= 35) & (df2['Voter Score'] <= 65),\n",
    "    (df2['Voter Score'] >= 66) & (df2['Voter Score'] <=100)\n",
    "    ]\n",
    "\n",
    "# Create of values we want assigned to the conditions\n",
    "values = ['False', 'True', 'False']\n",
    "\n",
    "# Create a new column with np.select to assign values to it using our lists as arguments\n",
    "df2['Swing Voter'] = np.select(conditions, values)\n",
    "\n",
    "# Display updated DataFrame\n",
    "df2"
   ]
  },
  {
   "cell_type": "code",
   "execution_count": null,
   "id": "42f41812",
   "metadata": {},
   "outputs": [],
   "source": [
    "# Create a list of our conditions\n",
    "conditions = [\n",
    "    (df2['Age'] >= 18) & (df2['Age'] <= 24),\n",
    "    (df2['Age'] >= 25) & (df2['Age'] <= 34),\n",
    "    (df2['Age'] >= 35) & (df2['Age'] <=44),\n",
    "    (df2['Age'] >= 45) & (df2['Age'] <=54),\n",
    "    (df2['Age'] >= 55) & (df2['Age'] <=64),\n",
    "    (df2['Age'] >= 65),\n",
    "    ]\n",
    "\n",
    "# Create of values we want assigned to the conditions\n",
    "values = ['18-24', '25-34', '35-44','45-54','55-64','65+']\n",
    "\n",
    "# Create a new column with np.select to assign values to it using our lists as arguments\n",
    "df2['Age'] = np.select(conditions, values)\n",
    "\n",
    "# Display updated DataFrame\n",
    "df2"
   ]
  },
  {
   "cell_type": "code",
   "execution_count": null,
   "id": "4f330ddf",
   "metadata": {},
   "outputs": [],
   "source": [
    "#Drop columns that doesn't impact Swing Voter chances\n",
    "df2.drop(columns=[\"Zip\"], inplace=True)\n",
    "df2"
   ]
  },
  {
   "cell_type": "code",
   "execution_count": null,
   "id": "ca7effc3",
   "metadata": {},
   "outputs": [],
   "source": [
    "# Changing to numerical by label encoder\n",
    "from sklearn.preprocessing import LabelEncoder \n",
    "number = LabelEncoder()\n",
    "df2[\"Swing Voter\"] = number.fit_transform(df2[\"Swing Voter\"])\n",
    "df2"
   ]
  },
  {
   "cell_type": "code",
   "execution_count": null,
   "id": "26c2bc5d",
   "metadata": {},
   "outputs": [],
   "source": [
    "number = LabelEncoder()\n",
    "df2[\"Party\"] = number.fit_transform(df2[\"Party\"])\n",
    "df2[\"Sex\"] = number.fit_transform(df2[\"Sex\"])\n",
    "df2[\"Ethnicity\"] = number.fit_transform(df2[\"Ethnicity\"])\n",
    "df2"
   ]
  },
  {
   "cell_type": "code",
   "execution_count": null,
   "id": "6c5a2856",
   "metadata": {},
   "outputs": [],
   "source": [
    "#Drop columns that doesn't impact Swing Voter chances\n",
    "df2.drop(columns=[\"Voter Score\"], inplace=True)\n",
    "df2"
   ]
  },
  {
   "cell_type": "code",
   "execution_count": null,
   "id": "86d2ab72",
   "metadata": {},
   "outputs": [],
   "source": [
    "df2.drop(columns=[\"Turnout Score\",\"Kids in HH\",\"Liberal Ideology\"], inplace=True)\n",
    "df2"
   ]
  },
  {
   "cell_type": "code",
   "execution_count": null,
   "id": "eb603003",
   "metadata": {},
   "outputs": [],
   "source": [
    "df2.drop(columns=[\"Party\",\"Sex\",\"Ethnicity\"], inplace=True)\n",
    "df2"
   ]
  },
  {
   "cell_type": "code",
   "execution_count": null,
   "id": "23be82c9",
   "metadata": {},
   "outputs": [],
   "source": [
    "vis = df2.exported[0]\n",
    "vis"
   ]
  },
  {
   "cell_type": "code",
   "execution_count": null,
   "id": "5e4bb8f2",
   "metadata": {},
   "outputs": [],
   "source": [
    "print (vis.to_code(\"matplotlib\"))"
   ]
  },
  {
   "cell_type": "code",
   "execution_count": null,
   "id": "01ddf7cc",
   "metadata": {},
   "outputs": [],
   "source": [
    "# Print Lux Graph in Matplotlib\n",
    "\n",
    "import matplotlib.pyplot as plt\n",
    "plt.rcParams.update(\n",
    "            {\n",
    "                \"axes.titlesize\": 20,\n",
    "                \"axes.titleweight\": \"bold\",\n",
    "                \"axes.labelweight\": \"bold\",\n",
    "                \"axes.labelsize\": 16,\n",
    "                \"legend.fontsize\": 14,\n",
    "                \"legend.title_fontsize\": 15,\n",
    "                \"xtick.labelsize\": 13,\n",
    "                \"ytick.labelsize\": 13,\n",
    "            }\n",
    "        )\n",
    "import numpy as np\n",
    "from math import nan\n",
    "df = pd.DataFrame({'Age': {0: '18-24', 1: '18-24', 2: '25-34', 3: '25-34', 4: '35-44', 5: '35-44', 6: '45-54', 7: '45-54', 8: '55-64', 9: '55-64', 10: '65+', 11: '65+'}, 'Swing Voter': {0: 0, 1: 1, 2: 0, 3: 1, 4: 0, 5: 1, 6: 0, 7: 1, 8: 0, 9: 1, 10: 0, 11: 1}, 'Record': {0: 916, 1: 162, 2: 8721, 3: 1671, 4: 11162, 5: 2030, 6: 13310, 7: 2088, 8: 16851, 9: 2059, 10: 30963, 11: 2681}})\n",
    "fig, ax = plt.subplots()\n",
    "bars = df['Age']\n",
    "measurements = df['Record']\n",
    "ax.barh(['18-24', '25-34', '35-44', '45-54', '55-64', '65+'],[916, 8721, 11162, 13310, 16851, 30963], label='0')\n",
    "ax.barh(['18-24', '25-34', '35-44', '45-54', '55-64', '65+'],[162, 1671, 2030, 2088, 2059, 2681], label='1')\n",
    "ax.legend(title='Swing Voter', \n",
    "            bbox_to_anchor=(1.05, 1), \n",
    "            loc='upper left', \n",
    "            ncol=1, \n",
    "            frameon=False)\n",
    "ax.set_xlabel('Record')\n",
    "ax.set_ylabel('Age')\n",
    "\n",
    "fig"
   ]
  },
  {
   "cell_type": "code",
   "execution_count": null,
   "id": "550bd451",
   "metadata": {},
   "outputs": [],
   "source": [
    "fig.savefig('test.png')"
   ]
  },
  {
   "cell_type": "code",
   "execution_count": null,
   "id": "1106dd75",
   "metadata": {},
   "outputs": [],
   "source": []
  }
 ],
 "metadata": {
  "kernelspec": {
   "display_name": "PythonData",
   "language": "python",
   "name": "pythondata"
  },
  "language_info": {
   "codemirror_mode": {
    "name": "ipython",
    "version": 3
   },
   "file_extension": ".py",
   "mimetype": "text/x-python",
   "name": "python",
   "nbconvert_exporter": "python",
   "pygments_lexer": "ipython3",
   "version": "3.8.8"
  }
 },
 "nbformat": 4,
 "nbformat_minor": 5
}
