{
 "cells": [
  {
   "cell_type": "code",
   "execution_count": 1,
   "id": "650ce725",
   "metadata": {},
   "outputs": [],
   "source": [
    "import warnings\n",
    "warnings.filterwarnings('ignore')\n",
    "import pandas as pd\n",
    "import numpy as np\n",
    "import seaborn as sns\n",
    "import matplotlib.pyplot as plt"
   ]
  },
  {
   "cell_type": "code",
   "execution_count": 2,
   "id": "e2494062",
   "metadata": {},
   "outputs": [
    {
     "data": {
      "text/html": [
       "<div>\n",
       "<style scoped>\n",
       "    .dataframe tbody tr th:only-of-type {\n",
       "        vertical-align: middle;\n",
       "    }\n",
       "\n",
       "    .dataframe tbody tr th {\n",
       "        vertical-align: top;\n",
       "    }\n",
       "\n",
       "    .dataframe thead th {\n",
       "        text-align: right;\n",
       "    }\n",
       "</style>\n",
       "<table border=\"1\" class=\"dataframe\">\n",
       "  <thead>\n",
       "    <tr style=\"text-align: right;\">\n",
       "      <th></th>\n",
       "      <th>District</th>\n",
       "      <th>voter_id</th>\n",
       "      <th>Party</th>\n",
       "      <th>Sex</th>\n",
       "      <th>Age</th>\n",
       "      <th>Ethnicity</th>\n",
       "      <th>Voter Score</th>\n",
       "      <th>Turnout Score</th>\n",
       "      <th>Kids in HH</th>\n",
       "      <th>Liberal Ideology</th>\n",
       "      <th>Zip</th>\n",
       "    </tr>\n",
       "  </thead>\n",
       "  <tbody>\n",
       "    <tr>\n",
       "      <th>0</th>\n",
       "      <td>13</td>\n",
       "      <td>15777</td>\n",
       "      <td>Republican</td>\n",
       "      <td>M</td>\n",
       "      <td>72</td>\n",
       "      <td>Caucasian</td>\n",
       "      <td>8.15</td>\n",
       "      <td>99.22</td>\n",
       "      <td>6.75</td>\n",
       "      <td>4.14</td>\n",
       "      <td>85224</td>\n",
       "    </tr>\n",
       "    <tr>\n",
       "      <th>1</th>\n",
       "      <td>13</td>\n",
       "      <td>22507</td>\n",
       "      <td>Democrat</td>\n",
       "      <td>M</td>\n",
       "      <td>56</td>\n",
       "      <td>Hispanic</td>\n",
       "      <td>91.74</td>\n",
       "      <td>99.13</td>\n",
       "      <td>34.25</td>\n",
       "      <td>70.85</td>\n",
       "      <td>85286</td>\n",
       "    </tr>\n",
       "    <tr>\n",
       "      <th>2</th>\n",
       "      <td>13</td>\n",
       "      <td>24594</td>\n",
       "      <td>Democrat</td>\n",
       "      <td>F</td>\n",
       "      <td>70</td>\n",
       "      <td>Caucasian</td>\n",
       "      <td>98.02</td>\n",
       "      <td>98.35</td>\n",
       "      <td>13.59</td>\n",
       "      <td>94.71</td>\n",
       "      <td>85248</td>\n",
       "    </tr>\n",
       "    <tr>\n",
       "      <th>3</th>\n",
       "      <td>13</td>\n",
       "      <td>40503</td>\n",
       "      <td>Democrat</td>\n",
       "      <td>M</td>\n",
       "      <td>70</td>\n",
       "      <td>Caucasian</td>\n",
       "      <td>93.63</td>\n",
       "      <td>97.76</td>\n",
       "      <td>13.28</td>\n",
       "      <td>79.04</td>\n",
       "      <td>85225</td>\n",
       "    </tr>\n",
       "    <tr>\n",
       "      <th>4</th>\n",
       "      <td>13</td>\n",
       "      <td>48534</td>\n",
       "      <td>Other</td>\n",
       "      <td>F</td>\n",
       "      <td>66</td>\n",
       "      <td>Caucasian</td>\n",
       "      <td>91.58</td>\n",
       "      <td>98.97</td>\n",
       "      <td>7.58</td>\n",
       "      <td>78.62</td>\n",
       "      <td>85249</td>\n",
       "    </tr>\n",
       "  </tbody>\n",
       "</table>\n",
       "</div>"
      ],
      "text/plain": [
       "   District  voter_id       Party Sex  Age  Ethnicity  Voter Score  \\\n",
       "0        13     15777  Republican   M   72  Caucasian         8.15   \n",
       "1        13     22507    Democrat   M   56   Hispanic        91.74   \n",
       "2        13     24594    Democrat   F   70  Caucasian        98.02   \n",
       "3        13     40503    Democrat   M   70  Caucasian        93.63   \n",
       "4        13     48534       Other   F   66  Caucasian        91.58   \n",
       "\n",
       "   Turnout Score  Kids in HH  Liberal Ideology    Zip  \n",
       "0          99.22        6.75              4.14  85224  \n",
       "1          99.13       34.25             70.85  85286  \n",
       "2          98.35       13.59             94.71  85248  \n",
       "3          97.76       13.28             79.04  85225  \n",
       "4          98.97        7.58             78.62  85249  "
      ]
     },
     "execution_count": 2,
     "metadata": {},
     "output_type": "execute_result"
    }
   ],
   "source": [
    "df = pd.read_csv('/Users/joshzaragoza/combined_districts.csv')\n",
    "df.head()"
   ]
  },
  {
   "cell_type": "code",
   "execution_count": 3,
   "id": "66c40514",
   "metadata": {},
   "outputs": [
    {
     "data": {
      "text/html": [
       "<div>\n",
       "<style scoped>\n",
       "    .dataframe tbody tr th:only-of-type {\n",
       "        vertical-align: middle;\n",
       "    }\n",
       "\n",
       "    .dataframe tbody tr th {\n",
       "        vertical-align: top;\n",
       "    }\n",
       "\n",
       "    .dataframe thead th {\n",
       "        text-align: right;\n",
       "    }\n",
       "</style>\n",
       "<table border=\"1\" class=\"dataframe\">\n",
       "  <thead>\n",
       "    <tr style=\"text-align: right;\">\n",
       "      <th></th>\n",
       "      <th>District</th>\n",
       "      <th>Party</th>\n",
       "      <th>Sex</th>\n",
       "      <th>Age</th>\n",
       "      <th>Ethnicity</th>\n",
       "      <th>Voter Score</th>\n",
       "      <th>Turnout Score</th>\n",
       "      <th>Kids in HH</th>\n",
       "      <th>Liberal Ideology</th>\n",
       "    </tr>\n",
       "  </thead>\n",
       "  <tbody>\n",
       "    <tr>\n",
       "      <th>0</th>\n",
       "      <td>13</td>\n",
       "      <td>Republican</td>\n",
       "      <td>M</td>\n",
       "      <td>72</td>\n",
       "      <td>Caucasian</td>\n",
       "      <td>8.15</td>\n",
       "      <td>99.22</td>\n",
       "      <td>6.75</td>\n",
       "      <td>4.14</td>\n",
       "    </tr>\n",
       "    <tr>\n",
       "      <th>1</th>\n",
       "      <td>13</td>\n",
       "      <td>Democrat</td>\n",
       "      <td>M</td>\n",
       "      <td>56</td>\n",
       "      <td>Hispanic</td>\n",
       "      <td>91.74</td>\n",
       "      <td>99.13</td>\n",
       "      <td>34.25</td>\n",
       "      <td>70.85</td>\n",
       "    </tr>\n",
       "    <tr>\n",
       "      <th>2</th>\n",
       "      <td>13</td>\n",
       "      <td>Democrat</td>\n",
       "      <td>F</td>\n",
       "      <td>70</td>\n",
       "      <td>Caucasian</td>\n",
       "      <td>98.02</td>\n",
       "      <td>98.35</td>\n",
       "      <td>13.59</td>\n",
       "      <td>94.71</td>\n",
       "    </tr>\n",
       "    <tr>\n",
       "      <th>3</th>\n",
       "      <td>13</td>\n",
       "      <td>Democrat</td>\n",
       "      <td>M</td>\n",
       "      <td>70</td>\n",
       "      <td>Caucasian</td>\n",
       "      <td>93.63</td>\n",
       "      <td>97.76</td>\n",
       "      <td>13.28</td>\n",
       "      <td>79.04</td>\n",
       "    </tr>\n",
       "    <tr>\n",
       "      <th>4</th>\n",
       "      <td>13</td>\n",
       "      <td>Other</td>\n",
       "      <td>F</td>\n",
       "      <td>66</td>\n",
       "      <td>Caucasian</td>\n",
       "      <td>91.58</td>\n",
       "      <td>98.97</td>\n",
       "      <td>7.58</td>\n",
       "      <td>78.62</td>\n",
       "    </tr>\n",
       "  </tbody>\n",
       "</table>\n",
       "</div>"
      ],
      "text/plain": [
       "   District       Party Sex  Age  Ethnicity  Voter Score  Turnout Score  \\\n",
       "0        13  Republican   M   72  Caucasian         8.15          99.22   \n",
       "1        13    Democrat   M   56   Hispanic        91.74          99.13   \n",
       "2        13    Democrat   F   70  Caucasian        98.02          98.35   \n",
       "3        13    Democrat   M   70  Caucasian        93.63          97.76   \n",
       "4        13       Other   F   66  Caucasian        91.58          98.97   \n",
       "\n",
       "   Kids in HH  Liberal Ideology  \n",
       "0        6.75              4.14  \n",
       "1       34.25             70.85  \n",
       "2       13.59             94.71  \n",
       "3       13.28             79.04  \n",
       "4        7.58             78.62  "
      ]
     },
     "execution_count": 3,
     "metadata": {},
     "output_type": "execute_result"
    }
   ],
   "source": [
    "df.drop(columns=[\"voter_id\",\"Zip\"], inplace=True)\n",
    "df.head()"
   ]
  },
  {
   "cell_type": "code",
   "execution_count": 4,
   "id": "a70db2df",
   "metadata": {},
   "outputs": [
    {
     "data": {
      "text/plain": [
       "District              int64\n",
       "Party                object\n",
       "Sex                  object\n",
       "Age                   int64\n",
       "Ethnicity            object\n",
       "Voter Score         float64\n",
       "Turnout Score       float64\n",
       "Kids in HH          float64\n",
       "Liberal Ideology    float64\n",
       "dtype: object"
      ]
     },
     "execution_count": 4,
     "metadata": {},
     "output_type": "execute_result"
    }
   ],
   "source": [
    "df.dtypes"
   ]
  },
  {
   "cell_type": "code",
   "execution_count": 5,
   "id": "513a11cd",
   "metadata": {},
   "outputs": [
    {
     "data": {
      "text/html": [
       "<div>\n",
       "<style scoped>\n",
       "    .dataframe tbody tr th:only-of-type {\n",
       "        vertical-align: middle;\n",
       "    }\n",
       "\n",
       "    .dataframe tbody tr th {\n",
       "        vertical-align: top;\n",
       "    }\n",
       "\n",
       "    .dataframe thead th {\n",
       "        text-align: right;\n",
       "    }\n",
       "</style>\n",
       "<table border=\"1\" class=\"dataframe\">\n",
       "  <thead>\n",
       "    <tr style=\"text-align: right;\">\n",
       "      <th></th>\n",
       "      <th>District</th>\n",
       "      <th>Party</th>\n",
       "      <th>Sex</th>\n",
       "      <th>Age</th>\n",
       "      <th>Ethnicity</th>\n",
       "      <th>Voter Score</th>\n",
       "      <th>Turnout Score</th>\n",
       "      <th>Kids in HH</th>\n",
       "      <th>Liberal Ideology</th>\n",
       "    </tr>\n",
       "  </thead>\n",
       "  <tbody>\n",
       "    <tr>\n",
       "      <th>0</th>\n",
       "      <td>13</td>\n",
       "      <td>Republican</td>\n",
       "      <td>M</td>\n",
       "      <td>72</td>\n",
       "      <td>Caucasian</td>\n",
       "      <td>8</td>\n",
       "      <td>99</td>\n",
       "      <td>6</td>\n",
       "      <td>4</td>\n",
       "    </tr>\n",
       "    <tr>\n",
       "      <th>1</th>\n",
       "      <td>13</td>\n",
       "      <td>Democrat</td>\n",
       "      <td>M</td>\n",
       "      <td>56</td>\n",
       "      <td>Hispanic</td>\n",
       "      <td>91</td>\n",
       "      <td>99</td>\n",
       "      <td>34</td>\n",
       "      <td>70</td>\n",
       "    </tr>\n",
       "    <tr>\n",
       "      <th>2</th>\n",
       "      <td>13</td>\n",
       "      <td>Democrat</td>\n",
       "      <td>F</td>\n",
       "      <td>70</td>\n",
       "      <td>Caucasian</td>\n",
       "      <td>98</td>\n",
       "      <td>98</td>\n",
       "      <td>13</td>\n",
       "      <td>94</td>\n",
       "    </tr>\n",
       "    <tr>\n",
       "      <th>3</th>\n",
       "      <td>13</td>\n",
       "      <td>Democrat</td>\n",
       "      <td>M</td>\n",
       "      <td>70</td>\n",
       "      <td>Caucasian</td>\n",
       "      <td>93</td>\n",
       "      <td>97</td>\n",
       "      <td>13</td>\n",
       "      <td>79</td>\n",
       "    </tr>\n",
       "    <tr>\n",
       "      <th>4</th>\n",
       "      <td>13</td>\n",
       "      <td>Other</td>\n",
       "      <td>F</td>\n",
       "      <td>66</td>\n",
       "      <td>Caucasian</td>\n",
       "      <td>91</td>\n",
       "      <td>98</td>\n",
       "      <td>7</td>\n",
       "      <td>78</td>\n",
       "    </tr>\n",
       "  </tbody>\n",
       "</table>\n",
       "</div>"
      ],
      "text/plain": [
       "   District       Party Sex  Age  Ethnicity  Voter Score  Turnout Score  \\\n",
       "0        13  Republican   M   72  Caucasian            8             99   \n",
       "1        13    Democrat   M   56   Hispanic           91             99   \n",
       "2        13    Democrat   F   70  Caucasian           98             98   \n",
       "3        13    Democrat   M   70  Caucasian           93             97   \n",
       "4        13       Other   F   66  Caucasian           91             98   \n",
       "\n",
       "   Kids in HH  Liberal Ideology  \n",
       "0           6                 4  \n",
       "1          34                70  \n",
       "2          13                94  \n",
       "3          13                79  \n",
       "4           7                78  "
      ]
     },
     "execution_count": 5,
     "metadata": {},
     "output_type": "execute_result"
    }
   ],
   "source": [
    "df = df.astype({'District':'int','Voter Score':'int','Turnout Score':'int','Kids in HH':'int','Liberal Ideology':'int'})\n",
    "df.head()"
   ]
  },
  {
   "cell_type": "code",
   "execution_count": 6,
   "id": "5e627375",
   "metadata": {},
   "outputs": [
    {
     "data": {
      "text/plain": [
       "District             int64\n",
       "Party               object\n",
       "Sex                 object\n",
       "Age                  int64\n",
       "Ethnicity           object\n",
       "Voter Score          int64\n",
       "Turnout Score        int64\n",
       "Kids in HH           int64\n",
       "Liberal Ideology     int64\n",
       "dtype: object"
      ]
     },
     "execution_count": 6,
     "metadata": {},
     "output_type": "execute_result"
    }
   ],
   "source": [
    "df.dtypes"
   ]
  },
  {
   "cell_type": "code",
   "execution_count": 7,
   "id": "33ac27f4",
   "metadata": {},
   "outputs": [
    {
     "data": {
      "text/html": [
       "<div>\n",
       "<style scoped>\n",
       "    .dataframe tbody tr th:only-of-type {\n",
       "        vertical-align: middle;\n",
       "    }\n",
       "\n",
       "    .dataframe tbody tr th {\n",
       "        vertical-align: top;\n",
       "    }\n",
       "\n",
       "    .dataframe thead th {\n",
       "        text-align: right;\n",
       "    }\n",
       "</style>\n",
       "<table border=\"1\" class=\"dataframe\">\n",
       "  <thead>\n",
       "    <tr style=\"text-align: right;\">\n",
       "      <th></th>\n",
       "      <th>District</th>\n",
       "      <th>Age</th>\n",
       "      <th>Voter Score</th>\n",
       "      <th>Turnout Score</th>\n",
       "      <th>Kids in HH</th>\n",
       "      <th>Liberal Ideology</th>\n",
       "    </tr>\n",
       "  </thead>\n",
       "  <tbody>\n",
       "    <tr>\n",
       "      <th>count</th>\n",
       "      <td>372566.000000</td>\n",
       "      <td>372566.000000</td>\n",
       "      <td>372566.000000</td>\n",
       "      <td>372566.000000</td>\n",
       "      <td>372566.000000</td>\n",
       "      <td>372566.000000</td>\n",
       "    </tr>\n",
       "    <tr>\n",
       "      <th>mean</th>\n",
       "      <td>6.594708</td>\n",
       "      <td>54.854026</td>\n",
       "      <td>44.663053</td>\n",
       "      <td>78.380947</td>\n",
       "      <td>32.515103</td>\n",
       "      <td>39.394794</td>\n",
       "    </tr>\n",
       "    <tr>\n",
       "      <th>std</th>\n",
       "      <td>4.239544</td>\n",
       "      <td>17.271781</td>\n",
       "      <td>36.082911</td>\n",
       "      <td>26.530479</td>\n",
       "      <td>31.297139</td>\n",
       "      <td>30.204307</td>\n",
       "    </tr>\n",
       "    <tr>\n",
       "      <th>min</th>\n",
       "      <td>2.000000</td>\n",
       "      <td>19.000000</td>\n",
       "      <td>1.000000</td>\n",
       "      <td>0.000000</td>\n",
       "      <td>0.000000</td>\n",
       "      <td>0.000000</td>\n",
       "    </tr>\n",
       "    <tr>\n",
       "      <th>25%</th>\n",
       "      <td>4.000000</td>\n",
       "      <td>41.000000</td>\n",
       "      <td>9.000000</td>\n",
       "      <td>67.000000</td>\n",
       "      <td>5.000000</td>\n",
       "      <td>11.000000</td>\n",
       "    </tr>\n",
       "    <tr>\n",
       "      <th>50%</th>\n",
       "      <td>4.000000</td>\n",
       "      <td>55.000000</td>\n",
       "      <td>34.000000</td>\n",
       "      <td>91.000000</td>\n",
       "      <td>19.000000</td>\n",
       "      <td>32.000000</td>\n",
       "    </tr>\n",
       "    <tr>\n",
       "      <th>75%</th>\n",
       "      <td>9.000000</td>\n",
       "      <td>68.000000</td>\n",
       "      <td>86.000000</td>\n",
       "      <td>98.000000</td>\n",
       "      <td>60.000000</td>\n",
       "      <td>66.000000</td>\n",
       "    </tr>\n",
       "    <tr>\n",
       "      <th>max</th>\n",
       "      <td>13.000000</td>\n",
       "      <td>100.000000</td>\n",
       "      <td>98.000000</td>\n",
       "      <td>99.000000</td>\n",
       "      <td>99.000000</td>\n",
       "      <td>99.000000</td>\n",
       "    </tr>\n",
       "  </tbody>\n",
       "</table>\n",
       "</div>"
      ],
      "text/plain": [
       "            District            Age    Voter Score  Turnout Score  \\\n",
       "count  372566.000000  372566.000000  372566.000000  372566.000000   \n",
       "mean        6.594708      54.854026      44.663053      78.380947   \n",
       "std         4.239544      17.271781      36.082911      26.530479   \n",
       "min         2.000000      19.000000       1.000000       0.000000   \n",
       "25%         4.000000      41.000000       9.000000      67.000000   \n",
       "50%         4.000000      55.000000      34.000000      91.000000   \n",
       "75%         9.000000      68.000000      86.000000      98.000000   \n",
       "max        13.000000     100.000000      98.000000      99.000000   \n",
       "\n",
       "          Kids in HH  Liberal Ideology  \n",
       "count  372566.000000     372566.000000  \n",
       "mean       32.515103         39.394794  \n",
       "std        31.297139         30.204307  \n",
       "min         0.000000          0.000000  \n",
       "25%         5.000000         11.000000  \n",
       "50%        19.000000         32.000000  \n",
       "75%        60.000000         66.000000  \n",
       "max        99.000000         99.000000  "
      ]
     },
     "execution_count": 7,
     "metadata": {},
     "output_type": "execute_result"
    }
   ],
   "source": [
    "df.shape\n",
    "df.describe()"
   ]
  },
  {
   "cell_type": "code",
   "execution_count": 8,
   "id": "d17e31cd",
   "metadata": {},
   "outputs": [
    {
     "data": {
      "text/plain": [
       "District             int64\n",
       "Party               object\n",
       "Sex                 object\n",
       "Age                  int64\n",
       "Ethnicity           object\n",
       "Voter Score          int64\n",
       "Turnout Score        int64\n",
       "Kids in HH           int64\n",
       "Liberal Ideology     int64\n",
       "dtype: object"
      ]
     },
     "execution_count": 8,
     "metadata": {},
     "output_type": "execute_result"
    }
   ],
   "source": [
    "df.dtypes"
   ]
  },
  {
   "cell_type": "code",
   "execution_count": 9,
   "id": "a8c52e2c",
   "metadata": {},
   "outputs": [
    {
     "data": {
      "text/plain": [
       "<seaborn.axisgrid.PairGrid at 0x7fae730be7c0>"
      ]
     },
     "execution_count": 9,
     "metadata": {},
     "output_type": "execute_result"
    },
    {
     "data": {
      "image/png": "[encoded data removed]",
      "text/plain": [
       "<Figure size 224.625x180 with 1 Axes>"
      ]
     },
     "metadata": {
      "needs_background": "light"
     },
     "output_type": "display_data"
    }
   ],
   "source": [
    "sns.pairplot(df,x_vars=['Age'],y_vars=['Voter Score'],hue='Sex')"
   ]
  },
  {
   "cell_type": "code",
   "execution_count": 10,
   "id": "0337f025",
   "metadata": {},
   "outputs": [
    {
     "data": {
      "text/html": [
       "<div>\n",
       "<style scoped>\n",
       "    .dataframe tbody tr th:only-of-type {\n",
       "        vertical-align: middle;\n",
       "    }\n",
       "\n",
       "    .dataframe tbody tr th {\n",
       "        vertical-align: top;\n",
       "    }\n",
       "\n",
       "    .dataframe thead th {\n",
       "        text-align: right;\n",
       "    }\n",
       "</style>\n",
       "<table border=\"1\" class=\"dataframe\">\n",
       "  <thead>\n",
       "    <tr style=\"text-align: right;\">\n",
       "      <th></th>\n",
       "      <th>District</th>\n",
       "      <th>Age</th>\n",
       "      <th>Voter Score</th>\n",
       "      <th>Turnout Score</th>\n",
       "      <th>Kids in HH</th>\n",
       "      <th>Liberal Ideology</th>\n",
       "    </tr>\n",
       "  </thead>\n",
       "  <tbody>\n",
       "    <tr>\n",
       "      <th>District</th>\n",
       "      <td>1.000000</td>\n",
       "      <td>-0.020578</td>\n",
       "      <td>0.010838</td>\n",
       "      <td>-0.015183</td>\n",
       "      <td>0.071019</td>\n",
       "      <td>-0.030027</td>\n",
       "    </tr>\n",
       "    <tr>\n",
       "      <th>Age</th>\n",
       "      <td>-0.020578</td>\n",
       "      <td>1.000000</td>\n",
       "      <td>-0.108246</td>\n",
       "      <td>0.326660</td>\n",
       "      <td>-0.224138</td>\n",
       "      <td>-0.195308</td>\n",
       "    </tr>\n",
       "    <tr>\n",
       "      <th>Voter Score</th>\n",
       "      <td>0.010838</td>\n",
       "      <td>-0.108246</td>\n",
       "      <td>1.000000</td>\n",
       "      <td>0.024011</td>\n",
       "      <td>-0.030597</td>\n",
       "      <td>0.808834</td>\n",
       "    </tr>\n",
       "    <tr>\n",
       "      <th>Turnout Score</th>\n",
       "      <td>-0.015183</td>\n",
       "      <td>0.326660</td>\n",
       "      <td>0.024011</td>\n",
       "      <td>1.000000</td>\n",
       "      <td>0.053542</td>\n",
       "      <td>-0.015357</td>\n",
       "    </tr>\n",
       "    <tr>\n",
       "      <th>Kids in HH</th>\n",
       "      <td>0.071019</td>\n",
       "      <td>-0.224138</td>\n",
       "      <td>-0.030597</td>\n",
       "      <td>0.053542</td>\n",
       "      <td>1.000000</td>\n",
       "      <td>-0.073410</td>\n",
       "    </tr>\n",
       "    <tr>\n",
       "      <th>Liberal Ideology</th>\n",
       "      <td>-0.030027</td>\n",
       "      <td>-0.195308</td>\n",
       "      <td>0.808834</td>\n",
       "      <td>-0.015357</td>\n",
       "      <td>-0.073410</td>\n",
       "      <td>1.000000</td>\n",
       "    </tr>\n",
       "  </tbody>\n",
       "</table>\n",
       "</div>"
      ],
      "text/plain": [
       "                  District       Age  Voter Score  Turnout Score  Kids in HH  \\\n",
       "District          1.000000 -0.020578     0.010838      -0.015183    0.071019   \n",
       "Age              -0.020578  1.000000    -0.108246       0.326660   -0.224138   \n",
       "Voter Score       0.010838 -0.108246     1.000000       0.024011   -0.030597   \n",
       "Turnout Score    -0.015183  0.326660     0.024011       1.000000    0.053542   \n",
       "Kids in HH        0.071019 -0.224138    -0.030597       0.053542    1.000000   \n",
       "Liberal Ideology -0.030027 -0.195308     0.808834      -0.015357   -0.073410   \n",
       "\n",
       "                  Liberal Ideology  \n",
       "District                 -0.030027  \n",
       "Age                      -0.195308  \n",
       "Voter Score               0.808834  \n",
       "Turnout Score            -0.015357  \n",
       "Kids in HH               -0.073410  \n",
       "Liberal Ideology          1.000000  "
      ]
     },
     "execution_count": 10,
     "metadata": {},
     "output_type": "execute_result"
    }
   ],
   "source": [
    "df.corr()"
   ]
  },
  {
   "cell_type": "code",
   "execution_count": 11,
   "id": "33b07b27",
   "metadata": {},
   "outputs": [
    {
     "data": {
      "text/plain": [
       "<AxesSubplot:>"
      ]
     },
     "execution_count": 11,
     "metadata": {},
     "output_type": "execute_result"
    },
    {
     "data": {
      "image/png": "[encoded data removed]",
      "text/plain": [
       "<Figure size 432x288 with 2 Axes>"
      ]
     },
     "metadata": {
      "needs_background": "light"
     },
     "output_type": "display_data"
    }
   ],
   "source": [
    "sns.heatmap(df.corr(),annot=True,lw=1)"
   ]
  },
  {
   "cell_type": "code",
   "execution_count": 12,
   "id": "560535d7",
   "metadata": {},
   "outputs": [
    {
     "data": {
      "text/plain": [
       "<AxesSubplot:xlabel='Age', ylabel='Turnout Score'>"
      ]
     },
     "execution_count": 12,
     "metadata": {},
     "output_type": "execute_result"
    },
    {
     "data": {
      "image/png": "[encoded data removed]",
      "text/plain": [
       "<Figure size 432x288 with 1 Axes>"
      ]
     },
     "metadata": {
      "needs_background": "light"
     },
     "output_type": "display_data"
    }
   ],
   "source": [
    "sns.boxplot(y='Turnout Score',x='Age',data=df)"
   ]
  },
  {
   "cell_type": "code",
   "execution_count": 13,
   "id": "2fb8e489",
   "metadata": {},
   "outputs": [
    {
     "data": {
      "text/plain": [
       "<AxesSubplot:xlabel='Liberal Ideology', ylabel='Voter Score'>"
      ]
     },
     "execution_count": 13,
     "metadata": {},
     "output_type": "execute_result"
    },
    {
     "data": {
      "image/png": "[encoded data removed]",
      "text/plain": [
       "<Figure size 432x288 with 1 Axes>"
      ]
     },
     "metadata": {
      "needs_background": "light"
     },
     "output_type": "display_data"
    }
   ],
   "source": [
    "sns.boxplot(y='Voter Score',x='Liberal Ideology',data=df)"
   ]
  }
 ],
 "metadata": {
  "kernelspec": {
   "display_name": "PythonData",
   "language": "python",
   "name": "pythondata"
  },
  "language_info": {
   "codemirror_mode": {
    "name": "ipython",
    "version": 3
   },
   "file_extension": ".py",
   "mimetype": "text/x-python",
   "name": "python",
   "nbconvert_exporter": "python",
   "pygments_lexer": "ipython3",
   "version": "3.8.8"
  }
 },
 "nbformat": 4,
 "nbformat_minor": 5
}
