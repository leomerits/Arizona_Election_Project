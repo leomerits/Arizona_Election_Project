{
 "cells": [
  {
   "cell_type": "code",
   "execution_count": 59,
   "id": "b9ebaec3",
   "metadata": {},
   "outputs": [],
   "source": [
    "import pandas as pd"
   ]
  },
  {
   "cell_type": "code",
   "execution_count": 60,
   "id": "c14a1752",
   "metadata": {},
   "outputs": [
    {
     "data": {
      "text/html": [
       "<div>\n",
       "<style scoped>\n",
       "    .dataframe tbody tr th:only-of-type {\n",
       "        vertical-align: middle;\n",
       "    }\n",
       "\n",
       "    .dataframe tbody tr th {\n",
       "        vertical-align: top;\n",
       "    }\n",
       "\n",
       "    .dataframe thead th {\n",
       "        text-align: right;\n",
       "    }\n",
       "</style>\n",
       "<table border=\"1\" class=\"dataframe\">\n",
       "  <thead>\n",
       "    <tr style=\"text-align: right;\">\n",
       "      <th></th>\n",
       "      <th>PartyName</th>\n",
       "      <th>Sex</th>\n",
       "      <th>Age</th>\n",
       "      <th>Zip</th>\n",
       "      <th>Ethnicity</th>\n",
       "      <th>PartisanScore</th>\n",
       "      <th>NatTO</th>\n",
       "      <th>Partisanship</th>\n",
       "      <th>CivKidsinHH</th>\n",
       "      <th>CivLibIdeo</th>\n",
       "      <th>CivMarriage</th>\n",
       "      <th>Outcome</th>\n",
       "    </tr>\n",
       "  </thead>\n",
       "  <tbody>\n",
       "    <tr>\n",
       "      <th>0</th>\n",
       "      <td>1</td>\n",
       "      <td>1</td>\n",
       "      <td>66</td>\n",
       "      <td>85018</td>\n",
       "      <td>2</td>\n",
       "      <td>95</td>\n",
       "      <td>99</td>\n",
       "      <td>98</td>\n",
       "      <td>28</td>\n",
       "      <td>69</td>\n",
       "      <td>94</td>\n",
       "      <td>0</td>\n",
       "    </tr>\n",
       "    <tr>\n",
       "      <th>1</th>\n",
       "      <td>2</td>\n",
       "      <td>0</td>\n",
       "      <td>58</td>\n",
       "      <td>85254</td>\n",
       "      <td>3</td>\n",
       "      <td>11</td>\n",
       "      <td>99</td>\n",
       "      <td>7</td>\n",
       "      <td>59</td>\n",
       "      <td>26</td>\n",
       "      <td>98</td>\n",
       "      <td>0</td>\n",
       "    </tr>\n",
       "    <tr>\n",
       "      <th>2</th>\n",
       "      <td>2</td>\n",
       "      <td>0</td>\n",
       "      <td>59</td>\n",
       "      <td>85260</td>\n",
       "      <td>3</td>\n",
       "      <td>5</td>\n",
       "      <td>98</td>\n",
       "      <td>0</td>\n",
       "      <td>64</td>\n",
       "      <td>7</td>\n",
       "      <td>71</td>\n",
       "      <td>0</td>\n",
       "    </tr>\n",
       "    <tr>\n",
       "      <th>3</th>\n",
       "      <td>2</td>\n",
       "      <td>0</td>\n",
       "      <td>77</td>\n",
       "      <td>85016</td>\n",
       "      <td>3</td>\n",
       "      <td>7</td>\n",
       "      <td>98</td>\n",
       "      <td>0</td>\n",
       "      <td>6</td>\n",
       "      <td>9</td>\n",
       "      <td>97</td>\n",
       "      <td>0</td>\n",
       "    </tr>\n",
       "    <tr>\n",
       "      <th>4</th>\n",
       "      <td>2</td>\n",
       "      <td>1</td>\n",
       "      <td>70</td>\n",
       "      <td>85018</td>\n",
       "      <td>3</td>\n",
       "      <td>6</td>\n",
       "      <td>99</td>\n",
       "      <td>0</td>\n",
       "      <td>16</td>\n",
       "      <td>1</td>\n",
       "      <td>95</td>\n",
       "      <td>0</td>\n",
       "    </tr>\n",
       "    <tr>\n",
       "      <th>5</th>\n",
       "      <td>3</td>\n",
       "      <td>1</td>\n",
       "      <td>61</td>\n",
       "      <td>85018</td>\n",
       "      <td>3</td>\n",
       "      <td>30</td>\n",
       "      <td>90</td>\n",
       "      <td>25</td>\n",
       "      <td>68</td>\n",
       "      <td>16</td>\n",
       "      <td>99</td>\n",
       "      <td>0</td>\n",
       "    </tr>\n",
       "    <tr>\n",
       "      <th>6</th>\n",
       "      <td>3</td>\n",
       "      <td>0</td>\n",
       "      <td>58</td>\n",
       "      <td>85018</td>\n",
       "      <td>3</td>\n",
       "      <td>54</td>\n",
       "      <td>92</td>\n",
       "      <td>30</td>\n",
       "      <td>82</td>\n",
       "      <td>25</td>\n",
       "      <td>99</td>\n",
       "      <td>1</td>\n",
       "    </tr>\n",
       "    <tr>\n",
       "      <th>7</th>\n",
       "      <td>3</td>\n",
       "      <td>0</td>\n",
       "      <td>64</td>\n",
       "      <td>85018</td>\n",
       "      <td>3</td>\n",
       "      <td>15</td>\n",
       "      <td>99</td>\n",
       "      <td>1</td>\n",
       "      <td>42</td>\n",
       "      <td>6</td>\n",
       "      <td>99</td>\n",
       "      <td>0</td>\n",
       "    </tr>\n",
       "    <tr>\n",
       "      <th>8</th>\n",
       "      <td>2</td>\n",
       "      <td>1</td>\n",
       "      <td>79</td>\n",
       "      <td>85018</td>\n",
       "      <td>3</td>\n",
       "      <td>6</td>\n",
       "      <td>98</td>\n",
       "      <td>0</td>\n",
       "      <td>12</td>\n",
       "      <td>5</td>\n",
       "      <td>94</td>\n",
       "      <td>0</td>\n",
       "    </tr>\n",
       "    <tr>\n",
       "      <th>9</th>\n",
       "      <td>3</td>\n",
       "      <td>1</td>\n",
       "      <td>44</td>\n",
       "      <td>85251</td>\n",
       "      <td>3</td>\n",
       "      <td>70</td>\n",
       "      <td>35</td>\n",
       "      <td>1</td>\n",
       "      <td>19</td>\n",
       "      <td>15</td>\n",
       "      <td>84</td>\n",
       "      <td>0</td>\n",
       "    </tr>\n",
       "  </tbody>\n",
       "</table>\n",
       "</div>"
      ],
      "text/plain": [
       "   PartyName  Sex  Age    Zip  Ethnicity  PartisanScore  NatTO  Partisanship  \\\n",
       "0          1    1   66  85018          2             95     99            98   \n",
       "1          2    0   58  85254          3             11     99             7   \n",
       "2          2    0   59  85260          3              5     98             0   \n",
       "3          2    0   77  85016          3              7     98             0   \n",
       "4          2    1   70  85018          3              6     99             0   \n",
       "5          3    1   61  85018          3             30     90            25   \n",
       "6          3    0   58  85018          3             54     92            30   \n",
       "7          3    0   64  85018          3             15     99             1   \n",
       "8          2    1   79  85018          3              6     98             0   \n",
       "9          3    1   44  85251          3             70     35             1   \n",
       "\n",
       "   CivKidsinHH  CivLibIdeo  CivMarriage  Outcome  \n",
       "0           28          69           94        0  \n",
       "1           59          26           98        0  \n",
       "2           64           7           71        0  \n",
       "3            6           9           97        0  \n",
       "4           16           1           95        0  \n",
       "5           68          16           99        0  \n",
       "6           82          25           99        1  \n",
       "7           42           6           99        0  \n",
       "8           12           5           94        0  \n",
       "9           19          15           84        0  "
      ]
     },
     "execution_count": 60,
     "metadata": {},
     "output_type": "execute_result"
    }
   ],
   "source": [
    "#loading cleaned data\n",
    "file_path = \"/Users/joshzaragoza/Arizona_Election_Project/Leg_District_4_outcome.csv\"\n",
    "df_voters = pd.read_csv(file_path)\n",
    "df_voters.head(10)"
   ]
  },
  {
   "cell_type": "code",
   "execution_count": 63,
   "id": "cc816e43",
   "metadata": {},
   "outputs": [],
   "source": [
    "import seaborn as sns\n",
    "import matplotlib.pyplot as plt"
   ]
  },
  {
   "cell_type": "markdown",
   "id": "2838cfb6",
   "metadata": {},
   "source": [
    "### Feature Engineering"
   ]
  },
  {
   "cell_type": "code",
   "execution_count": 66,
   "id": "84f94910",
   "metadata": {
    "scrolled": false
   },
   "outputs": [
    {
     "data": {
      "text/plain": [
       "<AxesSubplot:>"
      ]
     },
     "execution_count": 66,
     "metadata": {},
     "output_type": "execute_result"
    },
    {
     "data": {
      "image/png": "[encoded data removed]",
      "text/plain": [
       "<Figure size 864x576 with 2 Axes>"
      ]
     },
     "metadata": {
      "needs_background": "light"
     },
     "output_type": "display_data"
    }
   ],
   "source": [
    "plt.figure(figsize = (12,8))\n",
    "sns.heatmap(df_voters.corr(), annot=True)"
   ]
  },
  {
   "cell_type": "code",
   "execution_count": 3,
   "id": "2c92d1dd",
   "metadata": {},
   "outputs": [
    {
     "name": "stderr",
     "output_type": "stream",
     "text": [
      "/opt/anaconda3/envs/mlenv/lib/python3.7/site-packages/ipykernel_launcher.py:1: FutureWarning: The default value of regex will change from True to False in a future version.\n",
      "  \"\"\"Entry point for launching an IPython kernel.\n"
     ]
    },
    {
     "data": {
      "text/html": [
       "<div>\n",
       "<style scoped>\n",
       "    .dataframe tbody tr th:only-of-type {\n",
       "        vertical-align: middle;\n",
       "    }\n",
       "\n",
       "    .dataframe tbody tr th {\n",
       "        vertical-align: top;\n",
       "    }\n",
       "\n",
       "    .dataframe thead th {\n",
       "        text-align: right;\n",
       "    }\n",
       "</style>\n",
       "<table border=\"1\" class=\"dataframe\">\n",
       "  <thead>\n",
       "    <tr style=\"text-align: right;\">\n",
       "      <th></th>\n",
       "      <th>PartyName</th>\n",
       "      <th>Sex</th>\n",
       "      <th>Age</th>\n",
       "      <th>Zip</th>\n",
       "      <th>Ethnicity</th>\n",
       "      <th>PartisanScore</th>\n",
       "      <th>NatTO</th>\n",
       "      <th>Partisanship</th>\n",
       "      <th>:CivKidsinHH</th>\n",
       "      <th>:CivLibIdeo</th>\n",
       "      <th>:CivMarriage</th>\n",
       "      <th>Outcome</th>\n",
       "    </tr>\n",
       "  </thead>\n",
       "  <tbody>\n",
       "    <tr>\n",
       "      <th>0</th>\n",
       "      <td>1</td>\n",
       "      <td>1</td>\n",
       "      <td>66</td>\n",
       "      <td>85018</td>\n",
       "      <td>2</td>\n",
       "      <td>95</td>\n",
       "      <td>99</td>\n",
       "      <td>98</td>\n",
       "      <td>28</td>\n",
       "      <td>69</td>\n",
       "      <td>94</td>\n",
       "      <td>0</td>\n",
       "    </tr>\n",
       "    <tr>\n",
       "      <th>1</th>\n",
       "      <td>2</td>\n",
       "      <td>0</td>\n",
       "      <td>58</td>\n",
       "      <td>85254</td>\n",
       "      <td>3</td>\n",
       "      <td>11</td>\n",
       "      <td>99</td>\n",
       "      <td>7</td>\n",
       "      <td>59</td>\n",
       "      <td>26</td>\n",
       "      <td>98</td>\n",
       "      <td>0</td>\n",
       "    </tr>\n",
       "    <tr>\n",
       "      <th>2</th>\n",
       "      <td>2</td>\n",
       "      <td>0</td>\n",
       "      <td>59</td>\n",
       "      <td>85260</td>\n",
       "      <td>3</td>\n",
       "      <td>5</td>\n",
       "      <td>98</td>\n",
       "      <td>0</td>\n",
       "      <td>64</td>\n",
       "      <td>7</td>\n",
       "      <td>71</td>\n",
       "      <td>0</td>\n",
       "    </tr>\n",
       "    <tr>\n",
       "      <th>3</th>\n",
       "      <td>2</td>\n",
       "      <td>0</td>\n",
       "      <td>77</td>\n",
       "      <td>85016</td>\n",
       "      <td>3</td>\n",
       "      <td>7</td>\n",
       "      <td>98</td>\n",
       "      <td>0</td>\n",
       "      <td>6</td>\n",
       "      <td>9</td>\n",
       "      <td>97</td>\n",
       "      <td>0</td>\n",
       "    </tr>\n",
       "    <tr>\n",
       "      <th>4</th>\n",
       "      <td>2</td>\n",
       "      <td>1</td>\n",
       "      <td>70</td>\n",
       "      <td>85018</td>\n",
       "      <td>3</td>\n",
       "      <td>6</td>\n",
       "      <td>99</td>\n",
       "      <td>0</td>\n",
       "      <td>16</td>\n",
       "      <td>1</td>\n",
       "      <td>95</td>\n",
       "      <td>0</td>\n",
       "    </tr>\n",
       "  </tbody>\n",
       "</table>\n",
       "</div>"
      ],
      "text/plain": [
       "   PartyName  Sex  Age    Zip  Ethnicity  PartisanScore  NatTO  Partisanship  \\\n",
       "0          1    1   66  85018          2             95     99            98   \n",
       "1          2    0   58  85254          3             11     99             7   \n",
       "2          2    0   59  85260          3              5     98             0   \n",
       "3          2    0   77  85016          3              7     98             0   \n",
       "4          2    1   70  85018          3              6     99             0   \n",
       "\n",
       "   :CivKidsinHH  :CivLibIdeo  :CivMarriage  Outcome  \n",
       "0            28           69            94        0  \n",
       "1            59           26            98        0  \n",
       "2            64            7            71        0  \n",
       "3             6            9            97        0  \n",
       "4            16            1            95        0  "
      ]
     },
     "execution_count": 3,
     "metadata": {},
     "output_type": "execute_result"
    }
   ],
   "source": [
    ">>> df_voters.columns = df_voters.columns.str.replace(r'\\d+', '')\n",
    ">>> df_voters.head()"
   ]
  },
  {
   "cell_type": "code",
   "execution_count": 4,
   "id": "6c7651e1",
   "metadata": {},
   "outputs": [
    {
     "data": {
      "text/html": [
       "<div>\n",
       "<style scoped>\n",
       "    .dataframe tbody tr th:only-of-type {\n",
       "        vertical-align: middle;\n",
       "    }\n",
       "\n",
       "    .dataframe tbody tr th {\n",
       "        vertical-align: top;\n",
       "    }\n",
       "\n",
       "    .dataframe thead th {\n",
       "        text-align: right;\n",
       "    }\n",
       "</style>\n",
       "<table border=\"1\" class=\"dataframe\">\n",
       "  <thead>\n",
       "    <tr style=\"text-align: right;\">\n",
       "      <th></th>\n",
       "      <th>PartyName</th>\n",
       "      <th>Sex</th>\n",
       "      <th>Age</th>\n",
       "      <th>Zip</th>\n",
       "      <th>Ethnicity</th>\n",
       "      <th>PartisanScore</th>\n",
       "      <th>NatTO</th>\n",
       "      <th>Partisanship</th>\n",
       "      <th>CivKidsinHH</th>\n",
       "      <th>CivLibIdeo</th>\n",
       "      <th>CivMarriage</th>\n",
       "      <th>Outcome</th>\n",
       "    </tr>\n",
       "  </thead>\n",
       "  <tbody>\n",
       "    <tr>\n",
       "      <th>0</th>\n",
       "      <td>1</td>\n",
       "      <td>1</td>\n",
       "      <td>66</td>\n",
       "      <td>85018</td>\n",
       "      <td>2</td>\n",
       "      <td>95</td>\n",
       "      <td>99</td>\n",
       "      <td>98</td>\n",
       "      <td>28</td>\n",
       "      <td>69</td>\n",
       "      <td>94</td>\n",
       "      <td>0</td>\n",
       "    </tr>\n",
       "    <tr>\n",
       "      <th>1</th>\n",
       "      <td>2</td>\n",
       "      <td>0</td>\n",
       "      <td>58</td>\n",
       "      <td>85254</td>\n",
       "      <td>3</td>\n",
       "      <td>11</td>\n",
       "      <td>99</td>\n",
       "      <td>7</td>\n",
       "      <td>59</td>\n",
       "      <td>26</td>\n",
       "      <td>98</td>\n",
       "      <td>0</td>\n",
       "    </tr>\n",
       "    <tr>\n",
       "      <th>2</th>\n",
       "      <td>2</td>\n",
       "      <td>0</td>\n",
       "      <td>59</td>\n",
       "      <td>85260</td>\n",
       "      <td>3</td>\n",
       "      <td>5</td>\n",
       "      <td>98</td>\n",
       "      <td>0</td>\n",
       "      <td>64</td>\n",
       "      <td>7</td>\n",
       "      <td>71</td>\n",
       "      <td>0</td>\n",
       "    </tr>\n",
       "    <tr>\n",
       "      <th>3</th>\n",
       "      <td>2</td>\n",
       "      <td>0</td>\n",
       "      <td>77</td>\n",
       "      <td>85016</td>\n",
       "      <td>3</td>\n",
       "      <td>7</td>\n",
       "      <td>98</td>\n",
       "      <td>0</td>\n",
       "      <td>6</td>\n",
       "      <td>9</td>\n",
       "      <td>97</td>\n",
       "      <td>0</td>\n",
       "    </tr>\n",
       "    <tr>\n",
       "      <th>4</th>\n",
       "      <td>2</td>\n",
       "      <td>1</td>\n",
       "      <td>70</td>\n",
       "      <td>85018</td>\n",
       "      <td>3</td>\n",
       "      <td>6</td>\n",
       "      <td>99</td>\n",
       "      <td>0</td>\n",
       "      <td>16</td>\n",
       "      <td>1</td>\n",
       "      <td>95</td>\n",
       "      <td>0</td>\n",
       "    </tr>\n",
       "  </tbody>\n",
       "</table>\n",
       "</div>"
      ],
      "text/plain": [
       "   PartyName  Sex  Age    Zip  Ethnicity  PartisanScore  NatTO  Partisanship  \\\n",
       "0          1    1   66  85018          2             95     99            98   \n",
       "1          2    0   58  85254          3             11     99             7   \n",
       "2          2    0   59  85260          3              5     98             0   \n",
       "3          2    0   77  85016          3              7     98             0   \n",
       "4          2    1   70  85018          3              6     99             0   \n",
       "\n",
       "   CivKidsinHH  CivLibIdeo  CivMarriage  Outcome  \n",
       "0           28          69           94        0  \n",
       "1           59          26           98        0  \n",
       "2           64           7           71        0  \n",
       "3            6           9           97        0  \n",
       "4           16           1           95        0  "
      ]
     },
     "execution_count": 4,
     "metadata": {},
     "output_type": "execute_result"
    }
   ],
   "source": [
    "df_voters.columns=df_voters.columns.str.replace(':','')\n",
    "df_voters.head()"
   ]
  },
  {
   "cell_type": "code",
   "execution_count": 5,
   "id": "897c4f57",
   "metadata": {},
   "outputs": [],
   "source": [
    "# Saving cleaned data\n",
    "file_path = \"/Users/joshzaragoza/Arizona_Election_Project/Leg_District_4_outcome.csv\"\n",
    "df_voters.to_csv(file_path, index=False)"
   ]
  },
  {
   "cell_type": "code",
   "execution_count": 6,
   "id": "991010f1",
   "metadata": {},
   "outputs": [
    {
     "data": {
      "text/html": [
       "<div>\n",
       "<style scoped>\n",
       "    .dataframe tbody tr th:only-of-type {\n",
       "        vertical-align: middle;\n",
       "    }\n",
       "\n",
       "    .dataframe tbody tr th {\n",
       "        vertical-align: top;\n",
       "    }\n",
       "\n",
       "    .dataframe thead th {\n",
       "        text-align: right;\n",
       "    }\n",
       "</style>\n",
       "<table border=\"1\" class=\"dataframe\">\n",
       "  <thead>\n",
       "    <tr style=\"text-align: right;\">\n",
       "      <th></th>\n",
       "      <th>PartyName</th>\n",
       "      <th>Sex</th>\n",
       "      <th>Age</th>\n",
       "      <th>Zip</th>\n",
       "      <th>Ethnicity</th>\n",
       "      <th>PartisanScore</th>\n",
       "      <th>NatTO</th>\n",
       "      <th>Partisanship</th>\n",
       "      <th>CivKidsinHH</th>\n",
       "      <th>CivLibIdeo</th>\n",
       "      <th>CivMarriage</th>\n",
       "      <th>Outcome</th>\n",
       "    </tr>\n",
       "  </thead>\n",
       "  <tbody>\n",
       "    <tr>\n",
       "      <th>0</th>\n",
       "      <td>1</td>\n",
       "      <td>1</td>\n",
       "      <td>66</td>\n",
       "      <td>85018</td>\n",
       "      <td>2</td>\n",
       "      <td>95</td>\n",
       "      <td>99</td>\n",
       "      <td>98</td>\n",
       "      <td>28</td>\n",
       "      <td>69</td>\n",
       "      <td>94</td>\n",
       "      <td>0</td>\n",
       "    </tr>\n",
       "    <tr>\n",
       "      <th>1</th>\n",
       "      <td>2</td>\n",
       "      <td>0</td>\n",
       "      <td>58</td>\n",
       "      <td>85254</td>\n",
       "      <td>3</td>\n",
       "      <td>11</td>\n",
       "      <td>99</td>\n",
       "      <td>7</td>\n",
       "      <td>59</td>\n",
       "      <td>26</td>\n",
       "      <td>98</td>\n",
       "      <td>0</td>\n",
       "    </tr>\n",
       "    <tr>\n",
       "      <th>2</th>\n",
       "      <td>2</td>\n",
       "      <td>0</td>\n",
       "      <td>59</td>\n",
       "      <td>85260</td>\n",
       "      <td>3</td>\n",
       "      <td>5</td>\n",
       "      <td>98</td>\n",
       "      <td>0</td>\n",
       "      <td>64</td>\n",
       "      <td>7</td>\n",
       "      <td>71</td>\n",
       "      <td>0</td>\n",
       "    </tr>\n",
       "    <tr>\n",
       "      <th>3</th>\n",
       "      <td>2</td>\n",
       "      <td>0</td>\n",
       "      <td>77</td>\n",
       "      <td>85016</td>\n",
       "      <td>3</td>\n",
       "      <td>7</td>\n",
       "      <td>98</td>\n",
       "      <td>0</td>\n",
       "      <td>6</td>\n",
       "      <td>9</td>\n",
       "      <td>97</td>\n",
       "      <td>0</td>\n",
       "    </tr>\n",
       "    <tr>\n",
       "      <th>4</th>\n",
       "      <td>2</td>\n",
       "      <td>1</td>\n",
       "      <td>70</td>\n",
       "      <td>85018</td>\n",
       "      <td>3</td>\n",
       "      <td>6</td>\n",
       "      <td>99</td>\n",
       "      <td>0</td>\n",
       "      <td>16</td>\n",
       "      <td>1</td>\n",
       "      <td>95</td>\n",
       "      <td>0</td>\n",
       "    </tr>\n",
       "    <tr>\n",
       "      <th>5</th>\n",
       "      <td>3</td>\n",
       "      <td>1</td>\n",
       "      <td>61</td>\n",
       "      <td>85018</td>\n",
       "      <td>3</td>\n",
       "      <td>30</td>\n",
       "      <td>90</td>\n",
       "      <td>25</td>\n",
       "      <td>68</td>\n",
       "      <td>16</td>\n",
       "      <td>99</td>\n",
       "      <td>0</td>\n",
       "    </tr>\n",
       "    <tr>\n",
       "      <th>6</th>\n",
       "      <td>3</td>\n",
       "      <td>0</td>\n",
       "      <td>58</td>\n",
       "      <td>85018</td>\n",
       "      <td>3</td>\n",
       "      <td>54</td>\n",
       "      <td>92</td>\n",
       "      <td>30</td>\n",
       "      <td>82</td>\n",
       "      <td>25</td>\n",
       "      <td>99</td>\n",
       "      <td>1</td>\n",
       "    </tr>\n",
       "    <tr>\n",
       "      <th>7</th>\n",
       "      <td>3</td>\n",
       "      <td>0</td>\n",
       "      <td>64</td>\n",
       "      <td>85018</td>\n",
       "      <td>3</td>\n",
       "      <td>15</td>\n",
       "      <td>99</td>\n",
       "      <td>1</td>\n",
       "      <td>42</td>\n",
       "      <td>6</td>\n",
       "      <td>99</td>\n",
       "      <td>0</td>\n",
       "    </tr>\n",
       "    <tr>\n",
       "      <th>8</th>\n",
       "      <td>2</td>\n",
       "      <td>1</td>\n",
       "      <td>79</td>\n",
       "      <td>85018</td>\n",
       "      <td>3</td>\n",
       "      <td>6</td>\n",
       "      <td>98</td>\n",
       "      <td>0</td>\n",
       "      <td>12</td>\n",
       "      <td>5</td>\n",
       "      <td>94</td>\n",
       "      <td>0</td>\n",
       "    </tr>\n",
       "    <tr>\n",
       "      <th>9</th>\n",
       "      <td>3</td>\n",
       "      <td>1</td>\n",
       "      <td>44</td>\n",
       "      <td>85251</td>\n",
       "      <td>3</td>\n",
       "      <td>70</td>\n",
       "      <td>35</td>\n",
       "      <td>1</td>\n",
       "      <td>19</td>\n",
       "      <td>15</td>\n",
       "      <td>84</td>\n",
       "      <td>0</td>\n",
       "    </tr>\n",
       "  </tbody>\n",
       "</table>\n",
       "</div>"
      ],
      "text/plain": [
       "   PartyName  Sex  Age    Zip  Ethnicity  PartisanScore  NatTO  Partisanship  \\\n",
       "0          1    1   66  85018          2             95     99            98   \n",
       "1          2    0   58  85254          3             11     99             7   \n",
       "2          2    0   59  85260          3              5     98             0   \n",
       "3          2    0   77  85016          3              7     98             0   \n",
       "4          2    1   70  85018          3              6     99             0   \n",
       "5          3    1   61  85018          3             30     90            25   \n",
       "6          3    0   58  85018          3             54     92            30   \n",
       "7          3    0   64  85018          3             15     99             1   \n",
       "8          2    1   79  85018          3              6     98             0   \n",
       "9          3    1   44  85251          3             70     35             1   \n",
       "\n",
       "   CivKidsinHH  CivLibIdeo  CivMarriage  Outcome  \n",
       "0           28          69           94        0  \n",
       "1           59          26           98        0  \n",
       "2           64           7           71        0  \n",
       "3            6           9           97        0  \n",
       "4           16           1           95        0  \n",
       "5           68          16           99        0  \n",
       "6           82          25           99        1  \n",
       "7           42           6           99        0  \n",
       "8           12           5           94        0  \n",
       "9           19          15           84        0  "
      ]
     },
     "execution_count": 6,
     "metadata": {},
     "output_type": "execute_result"
    }
   ],
   "source": [
    "#loading cleaned data\n",
    "file_path = \"/Users/joshzaragoza/Arizona_Election_Project/Leg_District_4_outcome.csv\"\n",
    "df_voters = pd.read_csv(file_path)\n",
    "df_voters.head(10)"
   ]
  },
  {
   "cell_type": "code",
   "execution_count": 21,
   "id": "0c8a3913",
   "metadata": {},
   "outputs": [
    {
     "data": {
      "text/plain": [
       "0    0.883671\n",
       "1    0.116329\n",
       "Name: Outcome, dtype: float64"
      ]
     },
     "execution_count": 21,
     "metadata": {},
     "output_type": "execute_result"
    }
   ],
   "source": [
    "df_voters[df_voters.columns[-1]].value_counts(normalize=True)"
   ]
  },
  {
   "cell_type": "markdown",
   "id": "1ae6c4cc",
   "metadata": {},
   "source": [
    "# Optimize from here"
   ]
  },
  {
   "cell_type": "code",
   "execution_count": 7,
   "id": "f3b7f249",
   "metadata": {},
   "outputs": [],
   "source": [
    "from sklearn.linear_model import LogisticRegression"
   ]
  },
  {
   "cell_type": "code",
   "execution_count": 8,
   "id": "9458a6ad",
   "metadata": {},
   "outputs": [],
   "source": [
    "y = df_voters[\"Outcome\"]\n",
    "X = df_voters.drop(columns=\"Outcome\")"
   ]
  },
  {
   "cell_type": "code",
   "execution_count": 9,
   "id": "942f71f5",
   "metadata": {},
   "outputs": [],
   "source": [
    "from sklearn.model_selection import train_test_split\n",
    "X_train, X_test, y_train, y_test = train_test_split(X,\n",
    "   y, random_state=1, stratify=y)"
   ]
  },
  {
   "cell_type": "code",
   "execution_count": 11,
   "id": "b971affb",
   "metadata": {},
   "outputs": [],
   "source": [
    "from sklearn.linear_model import LogisticRegression\n",
    "classifier = LogisticRegression(solver='lbfgs',\n",
    "   max_iter=,\n",
    "   random_state=1)"
   ]
  },
  {
   "cell_type": "code",
   "execution_count": 12,
   "id": "8f6a836a",
   "metadata": {},
   "outputs": [
    {
     "name": "stderr",
     "output_type": "stream",
     "text": [
      "/opt/anaconda3/envs/mlenv/lib/python3.7/site-packages/sklearn/linear_model/_logistic.py:818: ConvergenceWarning: lbfgs failed to converge (status=1):\n",
      "STOP: TOTAL NO. of ITERATIONS REACHED LIMIT.\n",
      "\n",
      "Increase the number of iterations (max_iter) or scale the data as shown in:\n",
      "    https://scikit-learn.org/stable/modules/preprocessing.html\n",
      "Please also refer to the documentation for alternative solver options:\n",
      "    https://scikit-learn.org/stable/modules/linear_model.html#logistic-regression\n",
      "  extra_warning_msg=_LOGISTIC_SOLVER_CONVERGENCE_MSG,\n"
     ]
    },
    {
     "data": {
      "text/plain": [
       "LogisticRegression(max_iter=200, random_state=1)"
      ]
     },
     "execution_count": 12,
     "metadata": {},
     "output_type": "execute_result"
    }
   ],
   "source": [
    "classifier.fit(X_train, y_train)"
   ]
  },
  {
   "cell_type": "code",
   "execution_count": 14,
   "id": "b18ca5d2",
   "metadata": {},
   "outputs": [],
   "source": [
    "y_pred = classifier.predict(X_test)"
   ]
  },
  {
   "cell_type": "code",
   "execution_count": 15,
   "id": "36079a65",
   "metadata": {},
   "outputs": [
    {
     "name": "stdout",
     "output_type": "stream",
     "text": [
      "0.8831627364602228\n"
     ]
    }
   ],
   "source": [
    "from sklearn.metrics import accuracy_score\n",
    "print(accuracy_score(y_test, y_pred))"
   ]
  },
  {
   "cell_type": "code",
   "execution_count": 55,
   "id": "2ab7e587",
   "metadata": {},
   "outputs": [],
   "source": [
    "df = pd.DataFrame({\n",
    "    'Actual': y_test,\n",
    "    'Predicted': list(y_pred)\n",
    "})"
   ]
  },
  {
   "cell_type": "code",
   "execution_count": 56,
   "id": "16cff999",
   "metadata": {},
   "outputs": [
    {
     "data": {
      "text/html": [
       "<div>\n",
       "<style scoped>\n",
       "    .dataframe tbody tr th:only-of-type {\n",
       "        vertical-align: middle;\n",
       "    }\n",
       "\n",
       "    .dataframe tbody tr th {\n",
       "        vertical-align: top;\n",
       "    }\n",
       "\n",
       "    .dataframe thead th {\n",
       "        text-align: right;\n",
       "    }\n",
       "</style>\n",
       "<table border=\"1\" class=\"dataframe\">\n",
       "  <thead>\n",
       "    <tr style=\"text-align: right;\">\n",
       "      <th></th>\n",
       "      <th>Actual</th>\n",
       "      <th>Predicted</th>\n",
       "    </tr>\n",
       "  </thead>\n",
       "  <tbody>\n",
       "    <tr>\n",
       "      <th>11847</th>\n",
       "      <td>0</td>\n",
       "      <td>0</td>\n",
       "    </tr>\n",
       "    <tr>\n",
       "      <th>54360</th>\n",
       "      <td>1</td>\n",
       "      <td>0</td>\n",
       "    </tr>\n",
       "    <tr>\n",
       "      <th>95206</th>\n",
       "      <td>0</td>\n",
       "      <td>0</td>\n",
       "    </tr>\n",
       "    <tr>\n",
       "      <th>78533</th>\n",
       "      <td>1</td>\n",
       "      <td>0</td>\n",
       "    </tr>\n",
       "    <tr>\n",
       "      <th>106624</th>\n",
       "      <td>1</td>\n",
       "      <td>0</td>\n",
       "    </tr>\n",
       "    <tr>\n",
       "      <th>...</th>\n",
       "      <td>...</td>\n",
       "      <td>...</td>\n",
       "    </tr>\n",
       "    <tr>\n",
       "      <th>55672</th>\n",
       "      <td>1</td>\n",
       "      <td>1</td>\n",
       "    </tr>\n",
       "    <tr>\n",
       "      <th>111098</th>\n",
       "      <td>1</td>\n",
       "      <td>0</td>\n",
       "    </tr>\n",
       "    <tr>\n",
       "      <th>49843</th>\n",
       "      <td>1</td>\n",
       "      <td>1</td>\n",
       "    </tr>\n",
       "    <tr>\n",
       "      <th>1368</th>\n",
       "      <td>0</td>\n",
       "      <td>0</td>\n",
       "    </tr>\n",
       "    <tr>\n",
       "      <th>121832</th>\n",
       "      <td>1</td>\n",
       "      <td>1</td>\n",
       "    </tr>\n",
       "  </tbody>\n",
       "</table>\n",
       "<p>5746 rows × 2 columns</p>\n",
       "</div>"
      ],
      "text/plain": [
       "        Actual  Predicted\n",
       "11847        0          0\n",
       "54360        1          0\n",
       "95206        0          0\n",
       "78533        1          0\n",
       "106624       1          0\n",
       "...        ...        ...\n",
       "55672        1          1\n",
       "111098       1          0\n",
       "49843        1          1\n",
       "1368         0          0\n",
       "121832       1          1\n",
       "\n",
       "[5746 rows x 2 columns]"
      ]
     },
     "execution_count": 56,
     "metadata": {},
     "output_type": "execute_result"
    }
   ],
   "source": [
    "df"
   ]
  },
  {
   "cell_type": "code",
   "execution_count": 57,
   "id": "afb1c531",
   "metadata": {},
   "outputs": [
    {
     "data": {
      "text/plain": [
       "0    2921\n",
       "1    2825\n",
       "Name: Actual, dtype: int64"
      ]
     },
     "execution_count": 57,
     "metadata": {},
     "output_type": "execute_result"
    }
   ],
   "source": [
    "df.Actual.value_counts()"
   ]
  },
  {
   "cell_type": "code",
   "execution_count": 58,
   "id": "79c5cf4a",
   "metadata": {},
   "outputs": [
    {
     "data": {
      "text/plain": [
       "0    3307\n",
       "1    2439\n",
       "Name: Predicted, dtype: int64"
      ]
     },
     "execution_count": 58,
     "metadata": {},
     "output_type": "execute_result"
    }
   ],
   "source": [
    "df.Predicted.value_counts()"
   ]
  },
  {
   "cell_type": "code",
   "execution_count": 29,
   "id": "8ea23582",
   "metadata": {},
   "outputs": [],
   "source": [
    "from sklearn.metrics import classification_report"
   ]
  },
  {
   "cell_type": "code",
   "execution_count": 31,
   "id": "55c5116e",
   "metadata": {},
   "outputs": [
    {
     "name": "stdout",
     "output_type": "stream",
     "text": [
      "              precision    recall  f1-score   support\n",
      "\n",
      "           0       0.88      1.00      0.94     27281\n",
      "           1       0.42      0.01      0.02      3591\n",
      "\n",
      "    accuracy                           0.88     30872\n",
      "   macro avg       0.65      0.51      0.48     30872\n",
      "weighted avg       0.83      0.88      0.83     30872\n",
      "\n"
     ]
    }
   ],
   "source": [
    "print(classification_report(y_test, y_pred))"
   ]
  },
  {
   "cell_type": "code",
   "execution_count": 36,
   "id": "a9226944",
   "metadata": {},
   "outputs": [],
   "source": [
    "df = df_voters.copy()"
   ]
  },
  {
   "cell_type": "code",
   "execution_count": 37,
   "id": "cd9bd64b",
   "metadata": {},
   "outputs": [
    {
     "data": {
      "text/html": [
       "<div>\n",
       "<style scoped>\n",
       "    .dataframe tbody tr th:only-of-type {\n",
       "        vertical-align: middle;\n",
       "    }\n",
       "\n",
       "    .dataframe tbody tr th {\n",
       "        vertical-align: top;\n",
       "    }\n",
       "\n",
       "    .dataframe thead th {\n",
       "        text-align: right;\n",
       "    }\n",
       "</style>\n",
       "<table border=\"1\" class=\"dataframe\">\n",
       "  <thead>\n",
       "    <tr style=\"text-align: right;\">\n",
       "      <th></th>\n",
       "      <th>PartyName</th>\n",
       "      <th>Sex</th>\n",
       "      <th>Age</th>\n",
       "      <th>Zip</th>\n",
       "      <th>Ethnicity</th>\n",
       "      <th>PartisanScore</th>\n",
       "      <th>NatTO</th>\n",
       "      <th>Partisanship</th>\n",
       "      <th>CivKidsinHH</th>\n",
       "      <th>CivLibIdeo</th>\n",
       "      <th>CivMarriage</th>\n",
       "      <th>Outcome</th>\n",
       "    </tr>\n",
       "  </thead>\n",
       "  <tbody>\n",
       "    <tr>\n",
       "      <th>43192</th>\n",
       "      <td>3</td>\n",
       "      <td>1</td>\n",
       "      <td>56</td>\n",
       "      <td>85016</td>\n",
       "      <td>3</td>\n",
       "      <td>47</td>\n",
       "      <td>88</td>\n",
       "      <td>3</td>\n",
       "      <td>31</td>\n",
       "      <td>21</td>\n",
       "      <td>35</td>\n",
       "      <td>1</td>\n",
       "    </tr>\n",
       "    <tr>\n",
       "      <th>99800</th>\n",
       "      <td>2</td>\n",
       "      <td>1</td>\n",
       "      <td>54</td>\n",
       "      <td>85032</td>\n",
       "      <td>3</td>\n",
       "      <td>5</td>\n",
       "      <td>99</td>\n",
       "      <td>0</td>\n",
       "      <td>10</td>\n",
       "      <td>5</td>\n",
       "      <td>17</td>\n",
       "      <td>0</td>\n",
       "    </tr>\n",
       "    <tr>\n",
       "      <th>49005</th>\n",
       "      <td>2</td>\n",
       "      <td>0</td>\n",
       "      <td>73</td>\n",
       "      <td>85253</td>\n",
       "      <td>3</td>\n",
       "      <td>15</td>\n",
       "      <td>84</td>\n",
       "      <td>1</td>\n",
       "      <td>5</td>\n",
       "      <td>7</td>\n",
       "      <td>98</td>\n",
       "      <td>0</td>\n",
       "    </tr>\n",
       "  </tbody>\n",
       "</table>\n",
       "</div>"
      ],
      "text/plain": [
       "       PartyName  Sex  Age    Zip  Ethnicity  PartisanScore  NatTO  \\\n",
       "43192          3    1   56  85016          3             47     88   \n",
       "99800          2    1   54  85032          3              5     99   \n",
       "49005          2    0   73  85253          3             15     84   \n",
       "\n",
       "       Partisanship  CivKidsinHH  CivLibIdeo  CivMarriage  Outcome  \n",
       "43192             3           31          21           35        1  \n",
       "99800             0           10           5           17        0  \n",
       "49005             1            5           7           98        0  "
      ]
     },
     "execution_count": 37,
     "metadata": {},
     "output_type": "execute_result"
    }
   ],
   "source": [
    "df.sample(3)"
   ]
  },
  {
   "cell_type": "code",
   "execution_count": 38,
   "id": "d4810090",
   "metadata": {},
   "outputs": [],
   "source": [
    "df_zeros = df[df.Outcome == 0]\n",
    "df_ones = df[df.Outcome == 1]"
   ]
  },
  {
   "cell_type": "code",
   "execution_count": 40,
   "id": "b91c5e5d",
   "metadata": {},
   "outputs": [
    {
     "data": {
      "text/plain": [
       "(109121, 12)"
      ]
     },
     "execution_count": 40,
     "metadata": {},
     "output_type": "execute_result"
    }
   ],
   "source": [
    "df_zeros.shape"
   ]
  },
  {
   "cell_type": "code",
   "execution_count": 41,
   "id": "16177919",
   "metadata": {},
   "outputs": [],
   "source": [
    "df_zeros = df_zeros.sample(df_ones.shape[0])"
   ]
  },
  {
   "cell_type": "code",
   "execution_count": 42,
   "id": "bc350463",
   "metadata": {},
   "outputs": [
    {
     "data": {
      "text/plain": [
       "(14365, 12)"
      ]
     },
     "execution_count": 42,
     "metadata": {},
     "output_type": "execute_result"
    }
   ],
   "source": [
    "df_zeros.shape"
   ]
  },
  {
   "cell_type": "code",
   "execution_count": 43,
   "id": "af287a30",
   "metadata": {},
   "outputs": [
    {
     "data": {
      "text/plain": [
       "(14365, 12)"
      ]
     },
     "execution_count": 43,
     "metadata": {},
     "output_type": "execute_result"
    }
   ],
   "source": [
    "df_ones.shape"
   ]
  },
  {
   "cell_type": "code",
   "execution_count": 44,
   "id": "1c247bfe",
   "metadata": {},
   "outputs": [],
   "source": [
    "final_df = pd.concat([df_zeros, df_ones])"
   ]
  },
  {
   "cell_type": "code",
   "execution_count": 45,
   "id": "87c9992b",
   "metadata": {},
   "outputs": [
    {
     "data": {
      "text/plain": [
       "(28730, 12)"
      ]
     },
     "execution_count": 45,
     "metadata": {},
     "output_type": "execute_result"
    }
   ],
   "source": [
    "final_df.shape"
   ]
  },
  {
   "cell_type": "code",
   "execution_count": 46,
   "id": "cedda88a",
   "metadata": {},
   "outputs": [
    {
     "data": {
      "text/html": [
       "<div>\n",
       "<style scoped>\n",
       "    .dataframe tbody tr th:only-of-type {\n",
       "        vertical-align: middle;\n",
       "    }\n",
       "\n",
       "    .dataframe tbody tr th {\n",
       "        vertical-align: top;\n",
       "    }\n",
       "\n",
       "    .dataframe thead th {\n",
       "        text-align: right;\n",
       "    }\n",
       "</style>\n",
       "<table border=\"1\" class=\"dataframe\">\n",
       "  <thead>\n",
       "    <tr style=\"text-align: right;\">\n",
       "      <th></th>\n",
       "      <th>PartyName</th>\n",
       "      <th>Sex</th>\n",
       "      <th>Age</th>\n",
       "      <th>Zip</th>\n",
       "      <th>Ethnicity</th>\n",
       "      <th>PartisanScore</th>\n",
       "      <th>NatTO</th>\n",
       "      <th>Partisanship</th>\n",
       "      <th>CivKidsinHH</th>\n",
       "      <th>CivLibIdeo</th>\n",
       "      <th>CivMarriage</th>\n",
       "      <th>Outcome</th>\n",
       "    </tr>\n",
       "  </thead>\n",
       "  <tbody>\n",
       "    <tr>\n",
       "      <th>117274</th>\n",
       "      <td>2</td>\n",
       "      <td>1</td>\n",
       "      <td>71</td>\n",
       "      <td>85253</td>\n",
       "      <td>3</td>\n",
       "      <td>7</td>\n",
       "      <td>98</td>\n",
       "      <td>33</td>\n",
       "      <td>7</td>\n",
       "      <td>8</td>\n",
       "      <td>92</td>\n",
       "      <td>0</td>\n",
       "    </tr>\n",
       "    <tr>\n",
       "      <th>68483</th>\n",
       "      <td>2</td>\n",
       "      <td>1</td>\n",
       "      <td>39</td>\n",
       "      <td>85260</td>\n",
       "      <td>3</td>\n",
       "      <td>10</td>\n",
       "      <td>79</td>\n",
       "      <td>4</td>\n",
       "      <td>23</td>\n",
       "      <td>15</td>\n",
       "      <td>38</td>\n",
       "      <td>0</td>\n",
       "    </tr>\n",
       "    <tr>\n",
       "      <th>56722</th>\n",
       "      <td>2</td>\n",
       "      <td>0</td>\n",
       "      <td>62</td>\n",
       "      <td>85032</td>\n",
       "      <td>3</td>\n",
       "      <td>11</td>\n",
       "      <td>84</td>\n",
       "      <td>1</td>\n",
       "      <td>3</td>\n",
       "      <td>25</td>\n",
       "      <td>8</td>\n",
       "      <td>0</td>\n",
       "    </tr>\n",
       "  </tbody>\n",
       "</table>\n",
       "</div>"
      ],
      "text/plain": [
       "        PartyName  Sex  Age    Zip  Ethnicity  PartisanScore  NatTO  \\\n",
       "117274          2    1   71  85253          3              7     98   \n",
       "68483           2    1   39  85260          3             10     79   \n",
       "56722           2    0   62  85032          3             11     84   \n",
       "\n",
       "        Partisanship  CivKidsinHH  CivLibIdeo  CivMarriage  Outcome  \n",
       "117274            33            7           8           92        0  \n",
       "68483              4           23          15           38        0  \n",
       "56722              1            3          25            8        0  "
      ]
     },
     "execution_count": 46,
     "metadata": {},
     "output_type": "execute_result"
    }
   ],
   "source": [
    "final_df.head(3)"
   ]
  },
  {
   "cell_type": "code",
   "execution_count": 47,
   "id": "4a719327",
   "metadata": {},
   "outputs": [],
   "source": [
    "X = final_df.drop(['Outcome'], axis=1)"
   ]
  },
  {
   "cell_type": "code",
   "execution_count": 48,
   "id": "bac9cb4b",
   "metadata": {},
   "outputs": [],
   "source": [
    "y = final_df['Outcome']"
   ]
  },
  {
   "cell_type": "code",
   "execution_count": 50,
   "id": "27fdbf5e",
   "metadata": {},
   "outputs": [],
   "source": [
    "X_train, X_test, y_train, y_test = train_test_split(X, y, test_size = 0.2)"
   ]
  },
  {
   "cell_type": "code",
   "execution_count": 51,
   "id": "babe3e72",
   "metadata": {},
   "outputs": [],
   "source": [
    "model = LogisticRegression()"
   ]
  },
  {
   "cell_type": "code",
   "execution_count": 52,
   "id": "ce003ec3",
   "metadata": {},
   "outputs": [
    {
     "data": {
      "text/plain": [
       "LogisticRegression()"
      ]
     },
     "execution_count": 52,
     "metadata": {},
     "output_type": "execute_result"
    }
   ],
   "source": [
    "model.fit(X_train, y_train)"
   ]
  },
  {
   "cell_type": "code",
   "execution_count": 53,
   "id": "62d2fe97",
   "metadata": {},
   "outputs": [],
   "source": [
    "y_pred = model.predict(X_test)"
   ]
  },
  {
   "cell_type": "code",
   "execution_count": 54,
   "id": "c353ff83",
   "metadata": {},
   "outputs": [
    {
     "name": "stdout",
     "output_type": "stream",
     "text": [
      "              precision    recall  f1-score   support\n",
      "\n",
      "           0       0.64      0.73      0.68      2921\n",
      "           1       0.68      0.58      0.63      2825\n",
      "\n",
      "    accuracy                           0.66      5746\n",
      "   macro avg       0.66      0.66      0.66      5746\n",
      "weighted avg       0.66      0.66      0.66      5746\n",
      "\n"
     ]
    }
   ],
   "source": [
    "print(classification_report(y_test, y_pred))"
   ]
  },
  {
   "cell_type": "code",
   "execution_count": 67,
   "id": "82515cbb",
   "metadata": {},
   "outputs": [
    {
     "data": {
      "text/plain": [
       "array([[ 3.93184748e-03,  2.00227191e-04, -3.64892665e-03,\n",
       "         2.07585901e-05,  1.25721599e-05,  1.19452517e-02,\n",
       "        -2.72233183e-02, -1.20738963e-02,  2.57707954e-03,\n",
       "         8.35840206e-03,  1.47410366e-04]])"
      ]
     },
     "execution_count": 67,
     "metadata": {},
     "output_type": "execute_result"
    }
   ],
   "source": [
    "model.coef_"
   ]
  },
  {
   "cell_type": "code",
   "execution_count": 69,
   "id": "fbdf4aa8",
   "metadata": {},
   "outputs": [
    {
     "data": {
      "text/plain": [
       "Index(['PartyName', 'Sex', 'Age', 'Zip', 'Ethnicity', 'PartisanScore', 'NatTO',\n",
       "       'Partisanship', 'CivKidsinHH', 'CivLibIdeo', 'CivMarriage', 'Outcome'],\n",
       "      dtype='object')"
      ]
     },
     "execution_count": 69,
     "metadata": {},
     "output_type": "execute_result"
    }
   ],
   "source": [
    "df_voters.columns"
   ]
  },
  {
   "cell_type": "code",
   "execution_count": 73,
   "id": "5203ac38",
   "metadata": {},
   "outputs": [
    {
     "data": {
      "text/plain": [
       "12"
      ]
     },
     "execution_count": 73,
     "metadata": {},
     "output_type": "execute_result"
    }
   ],
   "source": [
    "len(list(df_voters.columns))"
   ]
  },
  {
   "cell_type": "code",
   "execution_count": 75,
   "id": "c52e2987",
   "metadata": {},
   "outputs": [
    {
     "data": {
      "text/plain": [
       "11"
      ]
     },
     "execution_count": 75,
     "metadata": {},
     "output_type": "execute_result"
    }
   ],
   "source": [
    "len(list(model.coef_[0]))"
   ]
  },
  {
   "cell_type": "code",
   "execution_count": 76,
   "id": "cdca6a7c",
   "metadata": {},
   "outputs": [],
   "source": [
    "df = pd.DataFrame({\n",
    "    'Feature': list(df_voters.columns[:-1]),\n",
    "    'Coefficient': list(model.coef_[0])\n",
    "})"
   ]
  },
  {
   "cell_type": "code",
   "execution_count": 77,
   "id": "f951693b",
   "metadata": {},
   "outputs": [
    {
     "data": {
      "text/html": [
       "<div>\n",
       "<style scoped>\n",
       "    .dataframe tbody tr th:only-of-type {\n",
       "        vertical-align: middle;\n",
       "    }\n",
       "\n",
       "    .dataframe tbody tr th {\n",
       "        vertical-align: top;\n",
       "    }\n",
       "\n",
       "    .dataframe thead th {\n",
       "        text-align: right;\n",
       "    }\n",
       "</style>\n",
       "<table border=\"1\" class=\"dataframe\">\n",
       "  <thead>\n",
       "    <tr style=\"text-align: right;\">\n",
       "      <th></th>\n",
       "      <th>Feature</th>\n",
       "      <th>Coefficient</th>\n",
       "    </tr>\n",
       "  </thead>\n",
       "  <tbody>\n",
       "    <tr>\n",
       "      <th>0</th>\n",
       "      <td>PartyName</td>\n",
       "      <td>0.003932</td>\n",
       "    </tr>\n",
       "    <tr>\n",
       "      <th>1</th>\n",
       "      <td>Sex</td>\n",
       "      <td>0.000200</td>\n",
       "    </tr>\n",
       "    <tr>\n",
       "      <th>2</th>\n",
       "      <td>Age</td>\n",
       "      <td>-0.003649</td>\n",
       "    </tr>\n",
       "    <tr>\n",
       "      <th>3</th>\n",
       "      <td>Zip</td>\n",
       "      <td>0.000021</td>\n",
       "    </tr>\n",
       "    <tr>\n",
       "      <th>4</th>\n",
       "      <td>Ethnicity</td>\n",
       "      <td>0.000013</td>\n",
       "    </tr>\n",
       "    <tr>\n",
       "      <th>5</th>\n",
       "      <td>PartisanScore</td>\n",
       "      <td>0.011945</td>\n",
       "    </tr>\n",
       "    <tr>\n",
       "      <th>6</th>\n",
       "      <td>NatTO</td>\n",
       "      <td>-0.027223</td>\n",
       "    </tr>\n",
       "    <tr>\n",
       "      <th>7</th>\n",
       "      <td>Partisanship</td>\n",
       "      <td>-0.012074</td>\n",
       "    </tr>\n",
       "    <tr>\n",
       "      <th>8</th>\n",
       "      <td>CivKidsinHH</td>\n",
       "      <td>0.002577</td>\n",
       "    </tr>\n",
       "    <tr>\n",
       "      <th>9</th>\n",
       "      <td>CivLibIdeo</td>\n",
       "      <td>0.008358</td>\n",
       "    </tr>\n",
       "    <tr>\n",
       "      <th>10</th>\n",
       "      <td>CivMarriage</td>\n",
       "      <td>0.000147</td>\n",
       "    </tr>\n",
       "  </tbody>\n",
       "</table>\n",
       "</div>"
      ],
      "text/plain": [
       "          Feature  Coefficient\n",
       "0       PartyName     0.003932\n",
       "1             Sex     0.000200\n",
       "2             Age    -0.003649\n",
       "3             Zip     0.000021\n",
       "4       Ethnicity     0.000013\n",
       "5   PartisanScore     0.011945\n",
       "6           NatTO    -0.027223\n",
       "7    Partisanship    -0.012074\n",
       "8     CivKidsinHH     0.002577\n",
       "9      CivLibIdeo     0.008358\n",
       "10    CivMarriage     0.000147"
      ]
     },
     "execution_count": 77,
     "metadata": {},
     "output_type": "execute_result"
    }
   ],
   "source": [
    "df"
   ]
  },
  {
   "cell_type": "markdown",
   "id": "03e57f7d",
   "metadata": {},
   "source": [
    "# Optimization 1 - Remove negative coefficient columns"
   ]
  },
  {
   "cell_type": "code",
   "execution_count": 78,
   "id": "0f9e1162",
   "metadata": {},
   "outputs": [
    {
     "data": {
      "text/html": [
       "<div>\n",
       "<style scoped>\n",
       "    .dataframe tbody tr th:only-of-type {\n",
       "        vertical-align: middle;\n",
       "    }\n",
       "\n",
       "    .dataframe tbody tr th {\n",
       "        vertical-align: top;\n",
       "    }\n",
       "\n",
       "    .dataframe thead th {\n",
       "        text-align: right;\n",
       "    }\n",
       "</style>\n",
       "<table border=\"1\" class=\"dataframe\">\n",
       "  <thead>\n",
       "    <tr style=\"text-align: right;\">\n",
       "      <th></th>\n",
       "      <th>PartyName</th>\n",
       "      <th>Sex</th>\n",
       "      <th>Age</th>\n",
       "      <th>Zip</th>\n",
       "      <th>Ethnicity</th>\n",
       "      <th>PartisanScore</th>\n",
       "      <th>NatTO</th>\n",
       "      <th>Partisanship</th>\n",
       "      <th>CivKidsinHH</th>\n",
       "      <th>CivLibIdeo</th>\n",
       "      <th>CivMarriage</th>\n",
       "      <th>Outcome</th>\n",
       "    </tr>\n",
       "  </thead>\n",
       "  <tbody>\n",
       "    <tr>\n",
       "      <th>0</th>\n",
       "      <td>1</td>\n",
       "      <td>1</td>\n",
       "      <td>66</td>\n",
       "      <td>85018</td>\n",
       "      <td>2</td>\n",
       "      <td>95</td>\n",
       "      <td>99</td>\n",
       "      <td>98</td>\n",
       "      <td>28</td>\n",
       "      <td>69</td>\n",
       "      <td>94</td>\n",
       "      <td>0</td>\n",
       "    </tr>\n",
       "    <tr>\n",
       "      <th>1</th>\n",
       "      <td>2</td>\n",
       "      <td>0</td>\n",
       "      <td>58</td>\n",
       "      <td>85254</td>\n",
       "      <td>3</td>\n",
       "      <td>11</td>\n",
       "      <td>99</td>\n",
       "      <td>7</td>\n",
       "      <td>59</td>\n",
       "      <td>26</td>\n",
       "      <td>98</td>\n",
       "      <td>0</td>\n",
       "    </tr>\n",
       "    <tr>\n",
       "      <th>2</th>\n",
       "      <td>2</td>\n",
       "      <td>0</td>\n",
       "      <td>59</td>\n",
       "      <td>85260</td>\n",
       "      <td>3</td>\n",
       "      <td>5</td>\n",
       "      <td>98</td>\n",
       "      <td>0</td>\n",
       "      <td>64</td>\n",
       "      <td>7</td>\n",
       "      <td>71</td>\n",
       "      <td>0</td>\n",
       "    </tr>\n",
       "    <tr>\n",
       "      <th>3</th>\n",
       "      <td>2</td>\n",
       "      <td>0</td>\n",
       "      <td>77</td>\n",
       "      <td>85016</td>\n",
       "      <td>3</td>\n",
       "      <td>7</td>\n",
       "      <td>98</td>\n",
       "      <td>0</td>\n",
       "      <td>6</td>\n",
       "      <td>9</td>\n",
       "      <td>97</td>\n",
       "      <td>0</td>\n",
       "    </tr>\n",
       "    <tr>\n",
       "      <th>4</th>\n",
       "      <td>2</td>\n",
       "      <td>1</td>\n",
       "      <td>70</td>\n",
       "      <td>85018</td>\n",
       "      <td>3</td>\n",
       "      <td>6</td>\n",
       "      <td>99</td>\n",
       "      <td>0</td>\n",
       "      <td>16</td>\n",
       "      <td>1</td>\n",
       "      <td>95</td>\n",
       "      <td>0</td>\n",
       "    </tr>\n",
       "    <tr>\n",
       "      <th>5</th>\n",
       "      <td>3</td>\n",
       "      <td>1</td>\n",
       "      <td>61</td>\n",
       "      <td>85018</td>\n",
       "      <td>3</td>\n",
       "      <td>30</td>\n",
       "      <td>90</td>\n",
       "      <td>25</td>\n",
       "      <td>68</td>\n",
       "      <td>16</td>\n",
       "      <td>99</td>\n",
       "      <td>0</td>\n",
       "    </tr>\n",
       "    <tr>\n",
       "      <th>6</th>\n",
       "      <td>3</td>\n",
       "      <td>0</td>\n",
       "      <td>58</td>\n",
       "      <td>85018</td>\n",
       "      <td>3</td>\n",
       "      <td>54</td>\n",
       "      <td>92</td>\n",
       "      <td>30</td>\n",
       "      <td>82</td>\n",
       "      <td>25</td>\n",
       "      <td>99</td>\n",
       "      <td>1</td>\n",
       "    </tr>\n",
       "    <tr>\n",
       "      <th>7</th>\n",
       "      <td>3</td>\n",
       "      <td>0</td>\n",
       "      <td>64</td>\n",
       "      <td>85018</td>\n",
       "      <td>3</td>\n",
       "      <td>15</td>\n",
       "      <td>99</td>\n",
       "      <td>1</td>\n",
       "      <td>42</td>\n",
       "      <td>6</td>\n",
       "      <td>99</td>\n",
       "      <td>0</td>\n",
       "    </tr>\n",
       "    <tr>\n",
       "      <th>8</th>\n",
       "      <td>2</td>\n",
       "      <td>1</td>\n",
       "      <td>79</td>\n",
       "      <td>85018</td>\n",
       "      <td>3</td>\n",
       "      <td>6</td>\n",
       "      <td>98</td>\n",
       "      <td>0</td>\n",
       "      <td>12</td>\n",
       "      <td>5</td>\n",
       "      <td>94</td>\n",
       "      <td>0</td>\n",
       "    </tr>\n",
       "    <tr>\n",
       "      <th>9</th>\n",
       "      <td>3</td>\n",
       "      <td>1</td>\n",
       "      <td>44</td>\n",
       "      <td>85251</td>\n",
       "      <td>3</td>\n",
       "      <td>70</td>\n",
       "      <td>35</td>\n",
       "      <td>1</td>\n",
       "      <td>19</td>\n",
       "      <td>15</td>\n",
       "      <td>84</td>\n",
       "      <td>0</td>\n",
       "    </tr>\n",
       "  </tbody>\n",
       "</table>\n",
       "</div>"
      ],
      "text/plain": [
       "   PartyName  Sex  Age    Zip  Ethnicity  PartisanScore  NatTO  Partisanship  \\\n",
       "0          1    1   66  85018          2             95     99            98   \n",
       "1          2    0   58  85254          3             11     99             7   \n",
       "2          2    0   59  85260          3              5     98             0   \n",
       "3          2    0   77  85016          3              7     98             0   \n",
       "4          2    1   70  85018          3              6     99             0   \n",
       "5          3    1   61  85018          3             30     90            25   \n",
       "6          3    0   58  85018          3             54     92            30   \n",
       "7          3    0   64  85018          3             15     99             1   \n",
       "8          2    1   79  85018          3              6     98             0   \n",
       "9          3    1   44  85251          3             70     35             1   \n",
       "\n",
       "   CivKidsinHH  CivLibIdeo  CivMarriage  Outcome  \n",
       "0           28          69           94        0  \n",
       "1           59          26           98        0  \n",
       "2           64           7           71        0  \n",
       "3            6           9           97        0  \n",
       "4           16           1           95        0  \n",
       "5           68          16           99        0  \n",
       "6           82          25           99        1  \n",
       "7           42           6           99        0  \n",
       "8           12           5           94        0  \n",
       "9           19          15           84        0  "
      ]
     },
     "execution_count": 78,
     "metadata": {},
     "output_type": "execute_result"
    }
   ],
   "source": [
    "#loading cleaned data\n",
    "file_path = \"/Users/joshzaragoza/Arizona_Election_Project/Leg_District_4_outcome.csv\"\n",
    "df_voters = pd.read_csv(file_path)\n",
    "df_voters.head(10)"
   ]
  },
  {
   "cell_type": "code",
   "execution_count": 79,
   "id": "5fe64482",
   "metadata": {},
   "outputs": [
    {
     "data": {
      "text/html": [
       "<div>\n",
       "<style scoped>\n",
       "    .dataframe tbody tr th:only-of-type {\n",
       "        vertical-align: middle;\n",
       "    }\n",
       "\n",
       "    .dataframe tbody tr th {\n",
       "        vertical-align: top;\n",
       "    }\n",
       "\n",
       "    .dataframe thead th {\n",
       "        text-align: right;\n",
       "    }\n",
       "</style>\n",
       "<table border=\"1\" class=\"dataframe\">\n",
       "  <thead>\n",
       "    <tr style=\"text-align: right;\">\n",
       "      <th></th>\n",
       "      <th>PartyName</th>\n",
       "      <th>Sex</th>\n",
       "      <th>Zip</th>\n",
       "      <th>Ethnicity</th>\n",
       "      <th>CivKidsinHH</th>\n",
       "      <th>CivLibIdeo</th>\n",
       "      <th>CivMarriage</th>\n",
       "      <th>Outcome</th>\n",
       "    </tr>\n",
       "  </thead>\n",
       "  <tbody>\n",
       "    <tr>\n",
       "      <th>0</th>\n",
       "      <td>1</td>\n",
       "      <td>1</td>\n",
       "      <td>85018</td>\n",
       "      <td>2</td>\n",
       "      <td>28</td>\n",
       "      <td>69</td>\n",
       "      <td>94</td>\n",
       "      <td>0</td>\n",
       "    </tr>\n",
       "    <tr>\n",
       "      <th>1</th>\n",
       "      <td>2</td>\n",
       "      <td>0</td>\n",
       "      <td>85254</td>\n",
       "      <td>3</td>\n",
       "      <td>59</td>\n",
       "      <td>26</td>\n",
       "      <td>98</td>\n",
       "      <td>0</td>\n",
       "    </tr>\n",
       "    <tr>\n",
       "      <th>2</th>\n",
       "      <td>2</td>\n",
       "      <td>0</td>\n",
       "      <td>85260</td>\n",
       "      <td>3</td>\n",
       "      <td>64</td>\n",
       "      <td>7</td>\n",
       "      <td>71</td>\n",
       "      <td>0</td>\n",
       "    </tr>\n",
       "    <tr>\n",
       "      <th>3</th>\n",
       "      <td>2</td>\n",
       "      <td>0</td>\n",
       "      <td>85016</td>\n",
       "      <td>3</td>\n",
       "      <td>6</td>\n",
       "      <td>9</td>\n",
       "      <td>97</td>\n",
       "      <td>0</td>\n",
       "    </tr>\n",
       "    <tr>\n",
       "      <th>4</th>\n",
       "      <td>2</td>\n",
       "      <td>1</td>\n",
       "      <td>85018</td>\n",
       "      <td>3</td>\n",
       "      <td>16</td>\n",
       "      <td>1</td>\n",
       "      <td>95</td>\n",
       "      <td>0</td>\n",
       "    </tr>\n",
       "  </tbody>\n",
       "</table>\n",
       "</div>"
      ],
      "text/plain": [
       "   PartyName  Sex    Zip  Ethnicity  CivKidsinHH  CivLibIdeo  CivMarriage  \\\n",
       "0          1    1  85018          2           28          69           94   \n",
       "1          2    0  85254          3           59          26           98   \n",
       "2          2    0  85260          3           64           7           71   \n",
       "3          2    0  85016          3            6           9           97   \n",
       "4          2    1  85018          3           16           1           95   \n",
       "\n",
       "   Outcome  \n",
       "0        0  \n",
       "1        0  \n",
       "2        0  \n",
       "3        0  \n",
       "4        0  "
      ]
     },
     "execution_count": 79,
     "metadata": {},
     "output_type": "execute_result"
    }
   ],
   "source": [
    "# Drop the non-beneficial coefficient columns.\n",
    "df_voters.drop(columns=[\"Age\",\"PartisanScore\",\"NatTO\",\"Partisanship\"], inplace=True)\n",
    "df_voters.head()"
   ]
  },
  {
   "cell_type": "code",
   "execution_count": 100,
   "id": "98942661",
   "metadata": {},
   "outputs": [
    {
     "data": {
      "text/plain": [
       "0    0.883671\n",
       "1    0.116329\n",
       "Name: Outcome, dtype: float64"
      ]
     },
     "execution_count": 100,
     "metadata": {},
     "output_type": "execute_result"
    }
   ],
   "source": [
    "df_voters[df_voters.columns[-1]].value_counts(normalize=True)"
   ]
  },
  {
   "cell_type": "code",
   "execution_count": 101,
   "id": "7a146432",
   "metadata": {},
   "outputs": [],
   "source": [
    "from sklearn.linear_model import LogisticRegression"
   ]
  },
  {
   "cell_type": "code",
   "execution_count": 88,
   "id": "c278f515",
   "metadata": {},
   "outputs": [],
   "source": [
    "y = df_voters[\"Outcome\"]\n",
    "X = df_voters.drop(columns=\"Outcome\")"
   ]
  },
  {
   "cell_type": "code",
   "execution_count": 89,
   "id": "56d361ac",
   "metadata": {},
   "outputs": [],
   "source": [
    "from sklearn.model_selection import train_test_split\n",
    "X_train, X_test, y_train, y_test = train_test_split(X,\n",
    "   y, random_state=1, stratify=y)"
   ]
  },
  {
   "cell_type": "code",
   "execution_count": 90,
   "id": "e1891b67",
   "metadata": {},
   "outputs": [],
   "source": [
    "from sklearn.linear_model import LogisticRegression\n",
    "classifier = LogisticRegression(solver='lbfgs',\n",
    "   max_iter= 200, random_state=1)"
   ]
  },
  {
   "cell_type": "code",
   "execution_count": 91,
   "id": "b7992928",
   "metadata": {},
   "outputs": [
    {
     "data": {
      "text/plain": [
       "LogisticRegression(max_iter=200, random_state=1)"
      ]
     },
     "execution_count": 91,
     "metadata": {},
     "output_type": "execute_result"
    }
   ],
   "source": [
    "classifier.fit(X_train, y_train)"
   ]
  },
  {
   "cell_type": "code",
   "execution_count": 92,
   "id": "0a70e872",
   "metadata": {},
   "outputs": [],
   "source": [
    "y_pred = classifier.predict(X_test)"
   ]
  },
  {
   "cell_type": "code",
   "execution_count": 93,
   "id": "8c40d762",
   "metadata": {},
   "outputs": [
    {
     "name": "stdout",
     "output_type": "stream",
     "text": [
      "0.8836810054418243\n"
     ]
    }
   ],
   "source": [
    "from sklearn.metrics import accuracy_score\n",
    "print(accuracy_score(y_test, y_pred))"
   ]
  },
  {
   "cell_type": "code",
   "execution_count": 102,
   "id": "9910018a",
   "metadata": {},
   "outputs": [],
   "source": [
    "df = pd.DataFrame({\n",
    "    'Actual': y_test,\n",
    "    'Predicted': list(y_pred)\n",
    "})"
   ]
  },
  {
   "cell_type": "code",
   "execution_count": 103,
   "id": "1386e9b8",
   "metadata": {},
   "outputs": [
    {
     "data": {
      "text/html": [
       "<div>\n",
       "<style scoped>\n",
       "    .dataframe tbody tr th:only-of-type {\n",
       "        vertical-align: middle;\n",
       "    }\n",
       "\n",
       "    .dataframe tbody tr th {\n",
       "        vertical-align: top;\n",
       "    }\n",
       "\n",
       "    .dataframe thead th {\n",
       "        text-align: right;\n",
       "    }\n",
       "</style>\n",
       "<table border=\"1\" class=\"dataframe\">\n",
       "  <thead>\n",
       "    <tr style=\"text-align: right;\">\n",
       "      <th></th>\n",
       "      <th>Actual</th>\n",
       "      <th>Predicted</th>\n",
       "    </tr>\n",
       "  </thead>\n",
       "  <tbody>\n",
       "    <tr>\n",
       "      <th>10322</th>\n",
       "      <td>0</td>\n",
       "      <td>0</td>\n",
       "    </tr>\n",
       "    <tr>\n",
       "      <th>121216</th>\n",
       "      <td>0</td>\n",
       "      <td>0</td>\n",
       "    </tr>\n",
       "    <tr>\n",
       "      <th>13315</th>\n",
       "      <td>0</td>\n",
       "      <td>0</td>\n",
       "    </tr>\n",
       "    <tr>\n",
       "      <th>3765</th>\n",
       "      <td>0</td>\n",
       "      <td>0</td>\n",
       "    </tr>\n",
       "    <tr>\n",
       "      <th>101065</th>\n",
       "      <td>0</td>\n",
       "      <td>0</td>\n",
       "    </tr>\n",
       "    <tr>\n",
       "      <th>...</th>\n",
       "      <td>...</td>\n",
       "      <td>...</td>\n",
       "    </tr>\n",
       "    <tr>\n",
       "      <th>105454</th>\n",
       "      <td>0</td>\n",
       "      <td>0</td>\n",
       "    </tr>\n",
       "    <tr>\n",
       "      <th>45132</th>\n",
       "      <td>0</td>\n",
       "      <td>0</td>\n",
       "    </tr>\n",
       "    <tr>\n",
       "      <th>118842</th>\n",
       "      <td>0</td>\n",
       "      <td>0</td>\n",
       "    </tr>\n",
       "    <tr>\n",
       "      <th>37278</th>\n",
       "      <td>0</td>\n",
       "      <td>0</td>\n",
       "    </tr>\n",
       "    <tr>\n",
       "      <th>82145</th>\n",
       "      <td>0</td>\n",
       "      <td>0</td>\n",
       "    </tr>\n",
       "  </tbody>\n",
       "</table>\n",
       "<p>30872 rows × 2 columns</p>\n",
       "</div>"
      ],
      "text/plain": [
       "        Actual  Predicted\n",
       "10322        0          0\n",
       "121216       0          0\n",
       "13315        0          0\n",
       "3765         0          0\n",
       "101065       0          0\n",
       "...        ...        ...\n",
       "105454       0          0\n",
       "45132        0          0\n",
       "118842       0          0\n",
       "37278        0          0\n",
       "82145        0          0\n",
       "\n",
       "[30872 rows x 2 columns]"
      ]
     },
     "execution_count": 103,
     "metadata": {},
     "output_type": "execute_result"
    }
   ],
   "source": [
    "df"
   ]
  },
  {
   "cell_type": "code",
   "execution_count": 104,
   "id": "e3813f9e",
   "metadata": {},
   "outputs": [
    {
     "data": {
      "text/plain": [
       "0    27281\n",
       "1     3591\n",
       "Name: Actual, dtype: int64"
      ]
     },
     "execution_count": 104,
     "metadata": {},
     "output_type": "execute_result"
    }
   ],
   "source": [
    "df.Actual.value_counts()"
   ]
  },
  {
   "cell_type": "code",
   "execution_count": 105,
   "id": "c4de879e",
   "metadata": {},
   "outputs": [
    {
     "data": {
      "text/plain": [
       "0    30872\n",
       "Name: Predicted, dtype: int64"
      ]
     },
     "execution_count": 105,
     "metadata": {},
     "output_type": "execute_result"
    }
   ],
   "source": [
    "df.Predicted.value_counts()"
   ]
  },
  {
   "cell_type": "code",
   "execution_count": 106,
   "id": "5e3c5883",
   "metadata": {},
   "outputs": [],
   "source": [
    "from sklearn.metrics import classification_report"
   ]
  },
  {
   "cell_type": "code",
   "execution_count": 108,
   "id": "6bbd0931",
   "metadata": {},
   "outputs": [
    {
     "name": "stdout",
     "output_type": "stream",
     "text": [
      "              precision    recall  f1-score   support\n",
      "\n",
      "           0       0.88      1.00      0.94     27281\n",
      "           1       0.00      0.00      0.00      3591\n",
      "\n",
      "    accuracy                           0.88     30872\n",
      "   macro avg       0.44      0.50      0.47     30872\n",
      "weighted avg       0.78      0.88      0.83     30872\n",
      "\n"
     ]
    },
    {
     "name": "stderr",
     "output_type": "stream",
     "text": [
      "/opt/anaconda3/envs/mlenv/lib/python3.7/site-packages/sklearn/metrics/_classification.py:1318: UndefinedMetricWarning: Precision and F-score are ill-defined and being set to 0.0 in labels with no predicted samples. Use `zero_division` parameter to control this behavior.\n",
      "  _warn_prf(average, modifier, msg_start, len(result))\n",
      "/opt/anaconda3/envs/mlenv/lib/python3.7/site-packages/sklearn/metrics/_classification.py:1318: UndefinedMetricWarning: Precision and F-score are ill-defined and being set to 0.0 in labels with no predicted samples. Use `zero_division` parameter to control this behavior.\n",
      "  _warn_prf(average, modifier, msg_start, len(result))\n",
      "/opt/anaconda3/envs/mlenv/lib/python3.7/site-packages/sklearn/metrics/_classification.py:1318: UndefinedMetricWarning: Precision and F-score are ill-defined and being set to 0.0 in labels with no predicted samples. Use `zero_division` parameter to control this behavior.\n",
      "  _warn_prf(average, modifier, msg_start, len(result))\n"
     ]
    }
   ],
   "source": [
    "print(classification_report(y_test, y_pred))"
   ]
  },
  {
   "cell_type": "code",
   "execution_count": 109,
   "id": "8923c6d8",
   "metadata": {},
   "outputs": [],
   "source": [
    "df = df_voters.copy()"
   ]
  },
  {
   "cell_type": "code",
   "execution_count": 110,
   "id": "e5f5d991",
   "metadata": {},
   "outputs": [
    {
     "data": {
      "text/html": [
       "<div>\n",
       "<style scoped>\n",
       "    .dataframe tbody tr th:only-of-type {\n",
       "        vertical-align: middle;\n",
       "    }\n",
       "\n",
       "    .dataframe tbody tr th {\n",
       "        vertical-align: top;\n",
       "    }\n",
       "\n",
       "    .dataframe thead th {\n",
       "        text-align: right;\n",
       "    }\n",
       "</style>\n",
       "<table border=\"1\" class=\"dataframe\">\n",
       "  <thead>\n",
       "    <tr style=\"text-align: right;\">\n",
       "      <th></th>\n",
       "      <th>PartyName</th>\n",
       "      <th>Sex</th>\n",
       "      <th>Zip</th>\n",
       "      <th>Ethnicity</th>\n",
       "      <th>CivKidsinHH</th>\n",
       "      <th>CivLibIdeo</th>\n",
       "      <th>CivMarriage</th>\n",
       "      <th>Outcome</th>\n",
       "    </tr>\n",
       "  </thead>\n",
       "  <tbody>\n",
       "    <tr>\n",
       "      <th>120058</th>\n",
       "      <td>3</td>\n",
       "      <td>0</td>\n",
       "      <td>85254</td>\n",
       "      <td>3</td>\n",
       "      <td>95</td>\n",
       "      <td>32</td>\n",
       "      <td>99</td>\n",
       "      <td>0</td>\n",
       "    </tr>\n",
       "    <tr>\n",
       "      <th>36397</th>\n",
       "      <td>1</td>\n",
       "      <td>0</td>\n",
       "      <td>85260</td>\n",
       "      <td>3</td>\n",
       "      <td>6</td>\n",
       "      <td>62</td>\n",
       "      <td>64</td>\n",
       "      <td>0</td>\n",
       "    </tr>\n",
       "    <tr>\n",
       "      <th>74390</th>\n",
       "      <td>1</td>\n",
       "      <td>0</td>\n",
       "      <td>85018</td>\n",
       "      <td>3</td>\n",
       "      <td>72</td>\n",
       "      <td>96</td>\n",
       "      <td>93</td>\n",
       "      <td>0</td>\n",
       "    </tr>\n",
       "  </tbody>\n",
       "</table>\n",
       "</div>"
      ],
      "text/plain": [
       "        PartyName  Sex    Zip  Ethnicity  CivKidsinHH  CivLibIdeo  \\\n",
       "120058          3    0  85254          3           95          32   \n",
       "36397           1    0  85260          3            6          62   \n",
       "74390           1    0  85018          3           72          96   \n",
       "\n",
       "        CivMarriage  Outcome  \n",
       "120058           99        0  \n",
       "36397            64        0  \n",
       "74390            93        0  "
      ]
     },
     "execution_count": 110,
     "metadata": {},
     "output_type": "execute_result"
    }
   ],
   "source": [
    "df.sample(3)"
   ]
  },
  {
   "cell_type": "code",
   "execution_count": 116,
   "id": "6299a6fd",
   "metadata": {},
   "outputs": [],
   "source": [
    "df_zeros = df[df.Outcome == 0]\n",
    "df_ones = df[df.Outcome == 1]"
   ]
  },
  {
   "cell_type": "code",
   "execution_count": 117,
   "id": "0ddf7e0d",
   "metadata": {},
   "outputs": [
    {
     "data": {
      "text/plain": [
       "(109121, 8)"
      ]
     },
     "execution_count": 117,
     "metadata": {},
     "output_type": "execute_result"
    }
   ],
   "source": [
    "df_zeros.shape"
   ]
  },
  {
   "cell_type": "code",
   "execution_count": 118,
   "id": "929c3712",
   "metadata": {},
   "outputs": [],
   "source": [
    "df_zeros = df_zeros.sample(df_ones.shape[0])"
   ]
  },
  {
   "cell_type": "code",
   "execution_count": 119,
   "id": "2897fdbc",
   "metadata": {},
   "outputs": [
    {
     "data": {
      "text/plain": [
       "(14365, 8)"
      ]
     },
     "execution_count": 119,
     "metadata": {},
     "output_type": "execute_result"
    }
   ],
   "source": [
    "df_zeros.shape"
   ]
  },
  {
   "cell_type": "code",
   "execution_count": 120,
   "id": "2273bd20",
   "metadata": {},
   "outputs": [
    {
     "data": {
      "text/plain": [
       "(14365, 8)"
      ]
     },
     "execution_count": 120,
     "metadata": {},
     "output_type": "execute_result"
    }
   ],
   "source": [
    "df_ones.shape"
   ]
  },
  {
   "cell_type": "code",
   "execution_count": 121,
   "id": "94f8a4a3",
   "metadata": {},
   "outputs": [],
   "source": [
    "final_df = pd.concat([df_zeros, df_ones])"
   ]
  },
  {
   "cell_type": "code",
   "execution_count": 122,
   "id": "a3b2a6f3",
   "metadata": {},
   "outputs": [
    {
     "data": {
      "text/plain": [
       "(28730, 8)"
      ]
     },
     "execution_count": 122,
     "metadata": {},
     "output_type": "execute_result"
    }
   ],
   "source": [
    "final_df.shape"
   ]
  },
  {
   "cell_type": "code",
   "execution_count": 123,
   "id": "e93ada9e",
   "metadata": {},
   "outputs": [
    {
     "data": {
      "text/html": [
       "<div>\n",
       "<style scoped>\n",
       "    .dataframe tbody tr th:only-of-type {\n",
       "        vertical-align: middle;\n",
       "    }\n",
       "\n",
       "    .dataframe tbody tr th {\n",
       "        vertical-align: top;\n",
       "    }\n",
       "\n",
       "    .dataframe thead th {\n",
       "        text-align: right;\n",
       "    }\n",
       "</style>\n",
       "<table border=\"1\" class=\"dataframe\">\n",
       "  <thead>\n",
       "    <tr style=\"text-align: right;\">\n",
       "      <th></th>\n",
       "      <th>PartyName</th>\n",
       "      <th>Sex</th>\n",
       "      <th>Zip</th>\n",
       "      <th>Ethnicity</th>\n",
       "      <th>CivKidsinHH</th>\n",
       "      <th>CivLibIdeo</th>\n",
       "      <th>CivMarriage</th>\n",
       "      <th>Outcome</th>\n",
       "    </tr>\n",
       "  </thead>\n",
       "  <tbody>\n",
       "    <tr>\n",
       "      <th>43615</th>\n",
       "      <td>3</td>\n",
       "      <td>0</td>\n",
       "      <td>85050</td>\n",
       "      <td>3</td>\n",
       "      <td>69</td>\n",
       "      <td>33</td>\n",
       "      <td>99</td>\n",
       "      <td>0</td>\n",
       "    </tr>\n",
       "    <tr>\n",
       "      <th>118304</th>\n",
       "      <td>3</td>\n",
       "      <td>0</td>\n",
       "      <td>85250</td>\n",
       "      <td>3</td>\n",
       "      <td>9</td>\n",
       "      <td>85</td>\n",
       "      <td>22</td>\n",
       "      <td>0</td>\n",
       "    </tr>\n",
       "    <tr>\n",
       "      <th>101903</th>\n",
       "      <td>2</td>\n",
       "      <td>0</td>\n",
       "      <td>85255</td>\n",
       "      <td>3</td>\n",
       "      <td>48</td>\n",
       "      <td>12</td>\n",
       "      <td>56</td>\n",
       "      <td>0</td>\n",
       "    </tr>\n",
       "  </tbody>\n",
       "</table>\n",
       "</div>"
      ],
      "text/plain": [
       "        PartyName  Sex    Zip  Ethnicity  CivKidsinHH  CivLibIdeo  \\\n",
       "43615           3    0  85050          3           69          33   \n",
       "118304          3    0  85250          3            9          85   \n",
       "101903          2    0  85255          3           48          12   \n",
       "\n",
       "        CivMarriage  Outcome  \n",
       "43615            99        0  \n",
       "118304           22        0  \n",
       "101903           56        0  "
      ]
     },
     "execution_count": 123,
     "metadata": {},
     "output_type": "execute_result"
    }
   ],
   "source": [
    "final_df.head(3)"
   ]
  },
  {
   "cell_type": "code",
   "execution_count": 124,
   "id": "ce4a5013",
   "metadata": {},
   "outputs": [],
   "source": [
    "X = final_df.drop(['Outcome'], axis=1)"
   ]
  },
  {
   "cell_type": "code",
   "execution_count": 125,
   "id": "09ec5bc5",
   "metadata": {},
   "outputs": [],
   "source": [
    "y = final_df['Outcome']"
   ]
  },
  {
   "cell_type": "code",
   "execution_count": 126,
   "id": "052c306f",
   "metadata": {},
   "outputs": [],
   "source": [
    "X_train, X_test, y_train, y_test = train_test_split(X, y, test_size = 0.2)"
   ]
  },
  {
   "cell_type": "code",
   "execution_count": 127,
   "id": "c98f811d",
   "metadata": {},
   "outputs": [],
   "source": [
    "model = LogisticRegression()"
   ]
  },
  {
   "cell_type": "code",
   "execution_count": 128,
   "id": "b4dbf0b6",
   "metadata": {},
   "outputs": [
    {
     "name": "stderr",
     "output_type": "stream",
     "text": [
      "/opt/anaconda3/envs/mlenv/lib/python3.7/site-packages/sklearn/linear_model/_logistic.py:818: ConvergenceWarning: lbfgs failed to converge (status=1):\n",
      "STOP: TOTAL NO. of ITERATIONS REACHED LIMIT.\n",
      "\n",
      "Increase the number of iterations (max_iter) or scale the data as shown in:\n",
      "    https://scikit-learn.org/stable/modules/preprocessing.html\n",
      "Please also refer to the documentation for alternative solver options:\n",
      "    https://scikit-learn.org/stable/modules/linear_model.html#logistic-regression\n",
      "  extra_warning_msg=_LOGISTIC_SOLVER_CONVERGENCE_MSG,\n"
     ]
    },
    {
     "data": {
      "text/plain": [
       "LogisticRegression()"
      ]
     },
     "execution_count": 128,
     "metadata": {},
     "output_type": "execute_result"
    }
   ],
   "source": [
    "model.fit(X_train, y_train)"
   ]
  },
  {
   "cell_type": "code",
   "execution_count": 129,
   "id": "1cdf3ac6",
   "metadata": {},
   "outputs": [],
   "source": [
    "y_pred = model.predict(X_test)"
   ]
  },
  {
   "cell_type": "code",
   "execution_count": 130,
   "id": "4f2b6774",
   "metadata": {},
   "outputs": [
    {
     "name": "stdout",
     "output_type": "stream",
     "text": [
      "              precision    recall  f1-score   support\n",
      "\n",
      "           0       0.61      0.49      0.55      2916\n",
      "           1       0.56      0.67      0.61      2830\n",
      "\n",
      "    accuracy                           0.58      5746\n",
      "   macro avg       0.59      0.58      0.58      5746\n",
      "weighted avg       0.59      0.58      0.58      5746\n",
      "\n"
     ]
    }
   ],
   "source": [
    "print(classification_report(y_test, y_pred))"
   ]
  },
  {
   "cell_type": "code",
   "execution_count": 131,
   "id": "28aedec4",
   "metadata": {},
   "outputs": [
    {
     "data": {
      "text/plain": [
       "array([[ 9.44765819e-02,  7.00128777e-03,  2.54119874e-06,\n",
       "        -1.37257348e-04,  1.66511465e-02,  9.78837966e-04,\n",
       "        -1.56733483e-02]])"
      ]
     },
     "execution_count": 131,
     "metadata": {},
     "output_type": "execute_result"
    }
   ],
   "source": [
    "model.coef_"
   ]
  },
  {
   "cell_type": "code",
   "execution_count": 132,
   "id": "4133232e",
   "metadata": {},
   "outputs": [
    {
     "data": {
      "text/plain": [
       "Index(['PartyName', 'Sex', 'Zip', 'Ethnicity', 'CivKidsinHH', 'CivLibIdeo',\n",
       "       'CivMarriage', 'Outcome'],\n",
       "      dtype='object')"
      ]
     },
     "execution_count": 132,
     "metadata": {},
     "output_type": "execute_result"
    }
   ],
   "source": [
    "df_voters.columns"
   ]
  },
  {
   "cell_type": "code",
   "execution_count": 133,
   "id": "62427b2c",
   "metadata": {},
   "outputs": [
    {
     "data": {
      "text/plain": [
       "8"
      ]
     },
     "execution_count": 133,
     "metadata": {},
     "output_type": "execute_result"
    }
   ],
   "source": [
    "len(list(df_voters.columns))"
   ]
  },
  {
   "cell_type": "code",
   "execution_count": 134,
   "id": "2c8ec0af",
   "metadata": {},
   "outputs": [
    {
     "data": {
      "text/plain": [
       "7"
      ]
     },
     "execution_count": 134,
     "metadata": {},
     "output_type": "execute_result"
    }
   ],
   "source": [
    "len(list(model.coef_[0]))"
   ]
  },
  {
   "cell_type": "code",
   "execution_count": 135,
   "id": "2f8758fb",
   "metadata": {},
   "outputs": [
    {
     "data": {
      "text/html": [
       "<div>\n",
       "<style scoped>\n",
       "    .dataframe tbody tr th:only-of-type {\n",
       "        vertical-align: middle;\n",
       "    }\n",
       "\n",
       "    .dataframe tbody tr th {\n",
       "        vertical-align: top;\n",
       "    }\n",
       "\n",
       "    .dataframe thead th {\n",
       "        text-align: right;\n",
       "    }\n",
       "</style>\n",
       "<table border=\"1\" class=\"dataframe\">\n",
       "  <thead>\n",
       "    <tr style=\"text-align: right;\">\n",
       "      <th></th>\n",
       "      <th>Feature</th>\n",
       "      <th>Coefficient</th>\n",
       "    </tr>\n",
       "  </thead>\n",
       "  <tbody>\n",
       "    <tr>\n",
       "      <th>0</th>\n",
       "      <td>PartyName</td>\n",
       "      <td>0.094477</td>\n",
       "    </tr>\n",
       "    <tr>\n",
       "      <th>1</th>\n",
       "      <td>Sex</td>\n",
       "      <td>0.007001</td>\n",
       "    </tr>\n",
       "    <tr>\n",
       "      <th>2</th>\n",
       "      <td>Zip</td>\n",
       "      <td>0.000003</td>\n",
       "    </tr>\n",
       "    <tr>\n",
       "      <th>3</th>\n",
       "      <td>Ethnicity</td>\n",
       "      <td>-0.000137</td>\n",
       "    </tr>\n",
       "    <tr>\n",
       "      <th>4</th>\n",
       "      <td>CivKidsinHH</td>\n",
       "      <td>0.016651</td>\n",
       "    </tr>\n",
       "    <tr>\n",
       "      <th>5</th>\n",
       "      <td>CivLibIdeo</td>\n",
       "      <td>0.000979</td>\n",
       "    </tr>\n",
       "    <tr>\n",
       "      <th>6</th>\n",
       "      <td>CivMarriage</td>\n",
       "      <td>-0.015673</td>\n",
       "    </tr>\n",
       "  </tbody>\n",
       "</table>\n",
       "</div>"
      ],
      "text/plain": [
       "       Feature  Coefficient\n",
       "0    PartyName     0.094477\n",
       "1          Sex     0.007001\n",
       "2          Zip     0.000003\n",
       "3    Ethnicity    -0.000137\n",
       "4  CivKidsinHH     0.016651\n",
       "5   CivLibIdeo     0.000979\n",
       "6  CivMarriage    -0.015673"
      ]
     },
     "execution_count": 135,
     "metadata": {},
     "output_type": "execute_result"
    }
   ],
   "source": [
    "df = pd.DataFrame({\n",
    "    'Feature': list(df_voters.columns[:-1]),\n",
    "    'Coefficient': list(model.coef_[0])\n",
    "})\n",
    "\n",
    "df"
   ]
  },
  {
   "cell_type": "code",
   "execution_count": null,
   "id": "aaf1ec27",
   "metadata": {},
   "outputs": [],
   "source": []
  }
 ],
 "metadata": {
  "kernelspec": {
   "display_name": "mlenv",
   "language": "python",
   "name": "mlenv"
  },
  "language_info": {
   "codemirror_mode": {
    "name": "ipython",
    "version": 3
   },
   "file_extension": ".py",
   "mimetype": "text/x-python",
   "name": "python",
   "nbconvert_exporter": "python",
   "pygments_lexer": "ipython3",
   "version": "3.7.7"
  }
 },
 "nbformat": 4,
 "nbformat_minor": 5
}
