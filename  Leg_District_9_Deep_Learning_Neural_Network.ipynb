{
 "cells": [
  {
   "cell_type": "code",
   "execution_count": null,
   "id": "1eefb811",
   "metadata": {},
   "outputs": [],
   "source": [
    "# Import our dependencies\n",
    "import pandas as pd\n",
    "import matplotlib as plt\n",
    "import sklearn as skl\n",
    "import tensorflow as tf\n",
    "import numpy as np\n",
    "import tensorflow.keras as keras\n",
    "from sklearn.preprocessing import StandardScaler"
   ]
  },
  {
   "cell_type": "code",
   "execution_count": null,
   "id": "e7701599",
   "metadata": {},
   "outputs": [],
   "source": [
    "file_path = \"/Users/joshzaragoza/Arizona_Election_Project/Resources/Voter Data/Leg_District4.csv\"\n",
    "df_voters = pd.read_csv(file_path)\n",
    "df_voters.head(10)"
   ]
  },
  {
   "cell_type": "code",
   "execution_count": null,
   "id": "b88b2c4b",
   "metadata": {},
   "outputs": [],
   "source": [
    "df_voters.drop(columns=[\"Zip\",\"LastName\",\"FirstName\",\"MiddleName\",\"Partisanship Score\"], inplace=True)\n",
    "df_voters"
   ]
  },
  {
   "cell_type": "code",
   "execution_count": null,
   "id": "5b63d418",
   "metadata": {},
   "outputs": [],
   "source": [
    "# Columns\n",
    "df_voters.count()"
   ]
  },
  {
   "cell_type": "code",
   "execution_count": null,
   "id": "afad24a4",
   "metadata": {},
   "outputs": [],
   "source": [
    "df_voters.dtypes"
   ]
  },
  {
   "cell_type": "code",
   "execution_count": null,
   "id": "13e110c0",
   "metadata": {},
   "outputs": [],
   "source": [
    "df_voters.isnull()"
   ]
  },
  {
   "cell_type": "code",
   "execution_count": null,
   "id": "90168def",
   "metadata": {},
   "outputs": [],
   "source": [
    "#drop any null or nan in the data frame \n",
    "df_voters.dropna(axis = 0, how = \"any\", thresh = None, subset = None, inplace=True)\n",
    "df_voters"
   ]
  },
  {
   "cell_type": "code",
   "execution_count": null,
   "id": "7b696c92",
   "metadata": {},
   "outputs": [],
   "source": [
    "# Convert Float64 to int dtypes\n",
    "df_voters = df_voters.astype({'Voter Score':'int','Turnout Score':'int','Kids in HH':'int','Liberal Ideology':'int'})\n",
    "df_voters"
   ]
  },
  {
   "cell_type": "code",
   "execution_count": null,
   "id": "88edba29",
   "metadata": {},
   "outputs": [],
   "source": [
    "# Rename column 1\n",
    "df_voters.rename(columns={'PartyName':'Party'}, inplace=True)\n",
    "df_voters.head()"
   ]
  },
  {
   "cell_type": "code",
   "execution_count": null,
   "id": "0f2fe800",
   "metadata": {},
   "outputs": [],
   "source": [
    "# Create a list of our conditions\n",
    "conditions = [\n",
    "    (df_voters['Voter Score'] <= 34),\n",
    "    (df_voters['Voter Score'] >= 35) & (df_voters['Voter Score'] <= 65),\n",
    "    (df_voters['Voter Score'] >= 66) & (df_voters['Voter Score'] <=100)\n",
    "    ]\n",
    "\n",
    "# Create of values we want assigned to the conditions\n",
    "values = ['No', 'Yes', 'No']\n",
    "\n",
    "# Create a new column with np.select to assign values to it using our lists as arguments\n",
    "df_voters['Swing Voter'] = np.select(conditions, values)\n",
    "\n",
    "# Display updated DataFrame\n",
    "df_voters"
   ]
  },
  {
   "cell_type": "code",
   "execution_count": null,
   "id": "2b4ea555",
   "metadata": {},
   "outputs": [],
   "source": [
    "df_voters.drop(columns=[\"Voter Score\"], inplace=True)\n",
    "df_voters"
   ]
  },
  {
   "cell_type": "code",
   "execution_count": null,
   "id": "38808619",
   "metadata": {},
   "outputs": [],
   "source": [
    "# Create a list of our conditions\n",
    "conditions = [\n",
    "    (df_voters['Age'] >= 18) & (df_voters['Age'] <= 24),\n",
    "    (df_voters['Age'] >= 25) & (df_voters['Age'] <= 34),\n",
    "    (df_voters['Age'] >= 35) & (df_voters['Age'] <=44),\n",
    "    (df_voters['Age'] >= 45) & (df_voters['Age'] <=54),\n",
    "    (df_voters['Age'] >= 55) & (df_voters['Age'] <=64),\n",
    "    (df_voters['Age'] >= 65),\n",
    "    ]\n",
    "\n",
    "# Create of values we want assigned to the conditions\n",
    "values = ['18-24', '25-34', '35-44','45-54','55-64','65+']\n",
    "\n",
    "# Create a new column with np.select to assign values to it using our lists as arguments\n",
    "df_voters['Age'] = np.select(conditions, values)\n",
    "\n",
    "# Display updated DataFrame\n",
    "df_voters"
   ]
  },
  {
   "cell_type": "code",
   "execution_count": null,
   "id": "56bc9986",
   "metadata": {},
   "outputs": [],
   "source": [
    "file_path = \"/Users/joshzaragoza/LD4_transform.csv\"\n",
    "df_voters.to_csv(file_path, index=False)"
   ]
  },
  {
   "cell_type": "code",
   "execution_count": null,
   "id": "153ec985",
   "metadata": {},
   "outputs": [],
   "source": [
    "# Import our dependencies\n",
    "from sklearn.model_selection import train_test_split\n",
    "from sklearn.preprocessing import StandardScaler,OneHotEncoder\n",
    "import pandas as pd\n",
    "import tensorflow as tf\n",
    "\n",
    "# Import our input dataset\n",
    "swing_voter_df = pd.read_csv(\"/Users/joshzaragoza/LD4_transform.csv\")\n",
    "swing_voter_df.head()"
   ]
  },
  {
   "cell_type": "code",
   "execution_count": null,
   "id": "77bf5fc6",
   "metadata": {},
   "outputs": [],
   "source": [
    "swing_voter_df.dtypes"
   ]
  },
  {
   "cell_type": "code",
   "execution_count": null,
   "id": "db5f154e",
   "metadata": {},
   "outputs": [],
   "source": [
    "# Generate our categorical variable list\n",
    "swing_voter_cat = swing_voter_df.dtypes[swing_voter_df.dtypes == \"object\"].index.tolist()"
   ]
  },
  {
   "cell_type": "code",
   "execution_count": null,
   "id": "8d79242a",
   "metadata": {},
   "outputs": [],
   "source": [
    "# Create a OneHotEncoder instance\n",
    "enc = OneHotEncoder(sparse=False)\n",
    "\n",
    "# Fit and transform the OneHotEncoder using the categorical variable list\n",
    "encode_df = pd.DataFrame(enc.fit_transform(swing_voter_df[swing_voter_cat]))\n",
    "\n",
    "# Add the encoded variable names to the DataFrame\n",
    "encode_df.columns = enc.get_feature_names(swing_voter_cat)\n",
    "encode_df.head()"
   ]
  },
  {
   "cell_type": "code",
   "execution_count": null,
   "id": "f944bdf1",
   "metadata": {},
   "outputs": [],
   "source": [
    "# Merge one-hot encoded features and drop the originals\n",
    "swing_voter_df = swing_voter_df.merge(encode_df,left_index=True, right_index=True)\n",
    "swing_voter_df = swing_voter_df.drop(swing_voter_cat,1)\n",
    "swing_voter_df.head()"
   ]
  },
  {
   "cell_type": "code",
   "execution_count": null,
   "id": "7e50a977",
   "metadata": {},
   "outputs": [],
   "source": [
    "# Split our preprocessed data into our features and target arrays\n",
    "y = swing_voter_df[\"Swing Voter_Yes\"].values\n",
    "X = swing_voter_df.drop([\"Swing Voter_Yes\",\"Swing Voter_No\"],1).values\n",
    "\n",
    "# Split the preprocessed data into a training and testing dataset\n",
    "X_train, X_test, y_train, y_test = train_test_split(X, y, random_state=78)"
   ]
  },
  {
   "cell_type": "code",
   "execution_count": null,
   "id": "b144d4e9",
   "metadata": {},
   "outputs": [],
   "source": [
    "# Create a StandardScaler instance\n",
    "scaler = StandardScaler()\n",
    "\n",
    "# Fit the StandardScaler\n",
    "X_scaler = scaler.fit(X_train)\n",
    "\n",
    "# Scale the data\n",
    "X_train_scaled = X_scaler.transform(X_train)\n",
    "X_test_scaled = X_scaler.transform(X_test)"
   ]
  },
  {
   "cell_type": "code",
   "execution_count": null,
   "id": "888d81e4",
   "metadata": {},
   "outputs": [],
   "source": [
    "# Define the model - deep neural net\n",
    "number_input_features = len(X_train[0])\n",
    "hidden_nodes_layer1 = 12\n",
    "hidden_nodes_layer2 = 8\n",
    "\n",
    "nn = tf.keras.models.Sequential()\n",
    "\n",
    "# First hidden layer\n",
    "nn.add(\n",
    "    tf.keras.layers.Dense(units=hidden_nodes_layer1, input_dim=number_input_features, activation=\"relu\")\n",
    ")\n",
    "\n",
    "# Second hidden layer\n",
    "nn.add(tf.keras.layers.Dense(units=hidden_nodes_layer2, activation=\"relu\"))\n",
    "\n",
    "# Output layer\n",
    "nn.add(tf.keras.layers.Dense(units=1, activation=\"sigmoid\"))\n",
    "\n",
    "# Check the structure of the model\n",
    "nn.summary()"
   ]
  },
  {
   "cell_type": "code",
   "execution_count": null,
   "id": "8f1edccf",
   "metadata": {},
   "outputs": [],
   "source": [
    "# Compile the model\n",
    "nn.compile(loss=\"binary_crossentropy\", optimizer=\"adam\", metrics=[\"accuracy\"])"
   ]
  },
  {
   "cell_type": "code",
   "execution_count": null,
   "id": "fc3ef18d",
   "metadata": {},
   "outputs": [],
   "source": [
    "# Evaluate the model using the test data\n",
    "model_loss, model_accuracy = nn.evaluate(X_test,y_test,verbose=2)\n",
    "print(f\"Loss: {model_loss}, Accuracy: {model_accuracy}\")"
   ]
  }
 ],
 "metadata": {
  "kernelspec": {
   "display_name": "PythonData",
   "language": "python",
   "name": "pythondata"
  },
  "language_info": {
   "codemirror_mode": {
    "name": "ipython",
    "version": 3
   },
   "file_extension": ".py",
   "mimetype": "text/x-python",
   "name": "python",
   "nbconvert_exporter": "python",
   "pygments_lexer": "ipython3",
   "version": "3.7.10"
  }
 },
 "nbformat": 4,
 "nbformat_minor": 5
}
