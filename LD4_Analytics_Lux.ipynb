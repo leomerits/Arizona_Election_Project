{
 "cells": [
  {
   "cell_type": "code",
   "execution_count": 1,
   "id": "8f25bcd2",
   "metadata": {},
   "outputs": [],
   "source": [
    "import lux\n",
    "import pandas as pd"
   ]
  },
  {
   "cell_type": "code",
   "execution_count": 2,
   "id": "23fdb045",
   "metadata": {},
   "outputs": [],
   "source": [
    "df = pd.read_csv(\"/Users/joshzaragoza/Arizona_Election_Project/Leg_District_4_outcome.csv\")"
   ]
  },
  {
   "cell_type": "code",
   "execution_count": 3,
   "id": "c210cfbb",
   "metadata": {
    "scrolled": true
   },
   "outputs": [
    {
     "data": {
      "application/vnd.jupyter.widget-view+json": {
       "model_id": "eeeee542c560432db79ff218e4a4b003",
       "version_major": 2,
       "version_minor": 0
      },
      "text/plain": [
       "Button(description='Toggle Pandas/Lux', layout=Layout(top='5px', width='140px'), style=ButtonStyle())"
      ]
     },
     "metadata": {},
     "output_type": "display_data"
    },
    {
     "data": {
      "application/vnd.jupyter.widget-view+json": {
       "model_id": "0aff3cd1068c4c7ebf08a9cf7cfc5f19",
       "version_major": 2,
       "version_minor": 0
      },
      "text/plain": [
       "Output()"
      ]
     },
     "metadata": {},
     "output_type": "display_data"
    }
   ],
   "source": [
    "df"
   ]
  },
  {
   "cell_type": "code",
   "execution_count": 4,
   "id": "27a6320f",
   "metadata": {},
   "outputs": [],
   "source": [
    "df2 = pd.read_csv(\"/Users/joshzaragoza/Arizona_Election_Project/Resources/Voter Data/Leg_District_4_clean.csv\")"
   ]
  },
  {
   "cell_type": "code",
   "execution_count": 6,
   "id": "32457d82",
   "metadata": {},
   "outputs": [
    {
     "data": {
      "application/vnd.jupyter.widget-view+json": {
       "model_id": "b96ba6b29e7d4437881f4d63b2594878",
       "version_major": 2,
       "version_minor": 0
      },
      "text/plain": [
       "Button(description='Toggle Pandas/Lux', layout=Layout(top='5px', width='140px'), style=ButtonStyle())"
      ]
     },
     "metadata": {},
     "output_type": "display_data"
    },
    {
     "data": {
      "application/vnd.jupyter.widget-view+json": {
       "model_id": "86abb43223ea4445bba633574a7758de",
       "version_major": 2,
       "version_minor": 0
      },
      "text/plain": [
       "Output()"
      ]
     },
     "metadata": {},
     "output_type": "display_data"
    }
   ],
   "source": [
    "df2.count()"
   ]
  },
  {
   "cell_type": "code",
   "execution_count": 7,
   "id": "efa713d8",
   "metadata": {},
   "outputs": [
    {
     "name": "stdout",
     "output_type": "stream",
     "text": [
      "Party                object\n",
      "Sex                  object\n",
      "Age                   int64\n",
      "Ethnicity            object\n",
      "Voter Score         float64\n",
      "Turnout Score       float64\n",
      "Kids in HH          float64\n",
      "Liberal Ideology    float64\n",
      "Zip                   int64\n",
      "dtype: object\n"
     ]
    }
   ],
   "source": [
    "df2.dtypes"
   ]
  },
  {
   "cell_type": "code",
   "execution_count": 8,
   "id": "ff0f6f63",
   "metadata": {},
   "outputs": [
    {
     "data": {
      "application/vnd.jupyter.widget-view+json": {
       "model_id": "f239af64f9464decbbf610a9f419e761",
       "version_major": 2,
       "version_minor": 0
      },
      "text/plain": [
       "Button(description='Toggle Pandas/Lux', layout=Layout(top='5px', width='140px'), style=ButtonStyle())"
      ]
     },
     "metadata": {},
     "output_type": "display_data"
    },
    {
     "data": {
      "application/vnd.jupyter.widget-view+json": {
       "model_id": "682b500c281140f39501b9f620fc7da2",
       "version_major": 2,
       "version_minor": 0
      },
      "text/plain": [
       "Output()"
      ]
     },
     "metadata": {},
     "output_type": "display_data"
    }
   ],
   "source": [
    "df2.isnull()"
   ]
  },
  {
   "cell_type": "code",
   "execution_count": 9,
   "id": "27c4e128",
   "metadata": {},
   "outputs": [],
   "source": [
    "#drop any null or nan in the data frame \n",
    "df2.dropna(axis = 0, how = \"any\", thresh = None, subset = None, inplace=True)"
   ]
  },
  {
   "cell_type": "code",
   "execution_count": 10,
   "id": "9b6342d7",
   "metadata": {},
   "outputs": [
    {
     "data": {
      "application/vnd.jupyter.widget-view+json": {
       "model_id": "c836810c02a24a82ab353a1c4d41a069",
       "version_major": 2,
       "version_minor": 0
      },
      "text/plain": [
       "Button(description='Toggle Pandas/Lux', layout=Layout(top='5px', width='140px'), style=ButtonStyle())"
      ]
     },
     "metadata": {},
     "output_type": "display_data"
    },
    {
     "data": {
      "application/vnd.jupyter.widget-view+json": {
       "model_id": "e10a40170b0448e7b9f549ce43295656",
       "version_major": 2,
       "version_minor": 0
      },
      "text/plain": [
       "Output()"
      ]
     },
     "metadata": {},
     "output_type": "display_data"
    }
   ],
   "source": [
    "df2.isnull().sum()"
   ]
  },
  {
   "cell_type": "code",
   "execution_count": 11,
   "id": "02c30a20",
   "metadata": {},
   "outputs": [],
   "source": [
    "df2 = df2.astype({'Voter Score':'int','Turnout Score':'int','Kids in HH':'int','Liberal Ideology':'int'})"
   ]
  },
  {
   "cell_type": "code",
   "execution_count": 12,
   "id": "e96b6d6f",
   "metadata": {},
   "outputs": [
    {
     "data": {
      "application/vnd.jupyter.widget-view+json": {
       "model_id": "52aa7ecf9ff946099c62a38c4cf4d86c",
       "version_major": 2,
       "version_minor": 0
      },
      "text/plain": [
       "Button(description='Toggle Pandas/Lux', layout=Layout(top='5px', width='140px'), style=ButtonStyle())"
      ]
     },
     "metadata": {},
     "output_type": "display_data"
    },
    {
     "data": {
      "application/vnd.jupyter.widget-view+json": {
       "model_id": "78be8d18ab634810ba005e087cdf07b2",
       "version_major": 2,
       "version_minor": 0
      },
      "text/plain": [
       "Output()"
      ]
     },
     "metadata": {},
     "output_type": "display_data"
    }
   ],
   "source": [
    "df2"
   ]
  },
  {
   "cell_type": "code",
   "execution_count": 14,
   "id": "18b3fcd6",
   "metadata": {},
   "outputs": [
    {
     "data": {
      "application/vnd.jupyter.widget-view+json": {
       "model_id": "026df3e02f9d4ed383681a668866cd16",
       "version_major": 2,
       "version_minor": 0
      },
      "text/plain": [
       "Button(description='Toggle Pandas/Lux', layout=Layout(top='5px', width='140px'), style=ButtonStyle())"
      ]
     },
     "metadata": {},
     "output_type": "display_data"
    },
    {
     "data": {
      "application/vnd.jupyter.widget-view+json": {
       "model_id": "31aa98beb2cf495688f584e08fdfb0b1",
       "version_major": 2,
       "version_minor": 0
      },
      "text/plain": [
       "Output()"
      ]
     },
     "metadata": {},
     "output_type": "display_data"
    }
   ],
   "source": [
    "import numpy as np\n",
    "\n",
    "# Create a list of our conditions\n",
    "conditions = [\n",
    "    (df2['Voter Score'] <= 34),\n",
    "    (df2['Voter Score'] >= 35) & (df2['Voter Score'] <= 65),\n",
    "    (df2['Voter Score'] >= 66) & (df2['Voter Score'] <=100)\n",
    "    ]\n",
    "\n",
    "# Create of values we want assigned to the conditions\n",
    "values = ['False', 'True', 'False']\n",
    "\n",
    "# Create a new column with np.select to assign values to it using our lists as arguments\n",
    "df2['Swing Voter'] = np.select(conditions, values)\n",
    "\n",
    "# Display updated DataFrame\n",
    "df2"
   ]
  },
  {
   "cell_type": "code",
   "execution_count": 16,
   "id": "42f41812",
   "metadata": {},
   "outputs": [
    {
     "data": {
      "application/vnd.jupyter.widget-view+json": {
       "model_id": "f800fdd2aa974c28aff59ddde3ac5944",
       "version_major": 2,
       "version_minor": 0
      },
      "text/plain": [
       "Button(description='Toggle Pandas/Lux', layout=Layout(top='5px', width='140px'), style=ButtonStyle())"
      ]
     },
     "metadata": {},
     "output_type": "display_data"
    },
    {
     "data": {
      "application/vnd.jupyter.widget-view+json": {
       "model_id": "b49fa508edee40bba61d04d6d6105b5c",
       "version_major": 2,
       "version_minor": 0
      },
      "text/plain": [
       "Output()"
      ]
     },
     "metadata": {},
     "output_type": "display_data"
    }
   ],
   "source": [
    "# Create a list of our conditions\n",
    "conditions = [\n",
    "    (df2['Age'] >= 18) & (df2['Age'] <= 24),\n",
    "    (df2['Age'] >= 25) & (df2['Age'] <= 34),\n",
    "    (df2['Age'] >= 35) & (df2['Age'] <=44),\n",
    "    (df2['Age'] >= 45) & (df2['Age'] <=54),\n",
    "    (df2['Age'] >= 55) & (df2['Age'] <=64),\n",
    "    (df2['Age'] >= 65),\n",
    "    ]\n",
    "\n",
    "# Create of values we want assigned to the conditions\n",
    "values = ['18-24', '25-34', '35-44','45-54','55-64','65+']\n",
    "\n",
    "# Create a new column with np.select to assign values to it using our lists as arguments\n",
    "df2['Age'] = np.select(conditions, values)\n",
    "\n",
    "# Display updated DataFrame\n",
    "df2"
   ]
  },
  {
   "cell_type": "code",
   "execution_count": 17,
   "id": "4f330ddf",
   "metadata": {},
   "outputs": [
    {
     "data": {
      "application/vnd.jupyter.widget-view+json": {
       "model_id": "6f9fe4734b8e4e5791c9d744f079514a",
       "version_major": 2,
       "version_minor": 0
      },
      "text/plain": [
       "Button(description='Toggle Pandas/Lux', layout=Layout(top='5px', width='140px'), style=ButtonStyle())"
      ]
     },
     "metadata": {},
     "output_type": "display_data"
    },
    {
     "data": {
      "application/vnd.jupyter.widget-view+json": {
       "model_id": "da49e28fc8ab4f3f99902254c4e5b0d7",
       "version_major": 2,
       "version_minor": 0
      },
      "text/plain": [
       "Output()"
      ]
     },
     "metadata": {},
     "output_type": "display_data"
    }
   ],
   "source": [
    "#Drop columns that doesn't impact Swing Voter chances\n",
    "df2.drop(columns=[\"Zip\"], inplace=True)\n",
    "df2"
   ]
  },
  {
   "cell_type": "code",
   "execution_count": 19,
   "id": "ca7effc3",
   "metadata": {},
   "outputs": [
    {
     "data": {
      "application/vnd.jupyter.widget-view+json": {
       "model_id": "0ebb59de90b34ba5b64a577308d1bfb8",
       "version_major": 2,
       "version_minor": 0
      },
      "text/plain": [
       "Button(description='Toggle Pandas/Lux', layout=Layout(top='5px', width='140px'), style=ButtonStyle())"
      ]
     },
     "metadata": {},
     "output_type": "display_data"
    },
    {
     "data": {
      "application/vnd.jupyter.widget-view+json": {
       "model_id": "710d1d7b0fee4c8d8ff4fc763e6d5dfe",
       "version_major": 2,
       "version_minor": 0
      },
      "text/plain": [
       "Output()"
      ]
     },
     "metadata": {},
     "output_type": "display_data"
    }
   ],
   "source": [
    "# Changing to numerical by label encoder\n",
    "from sklearn.preprocessing import LabelEncoder \n",
    "number = LabelEncoder()\n",
    "df2[\"Swing Voter\"] = number.fit_transform(df2[\"Swing Voter\"])\n",
    "df2"
   ]
  },
  {
   "cell_type": "code",
   "execution_count": 20,
   "id": "26c2bc5d",
   "metadata": {},
   "outputs": [
    {
     "data": {
      "application/vnd.jupyter.widget-view+json": {
       "model_id": "fe6ee1ee17c944f1acf43f5963a46023",
       "version_major": 2,
       "version_minor": 0
      },
      "text/plain": [
       "Button(description='Toggle Pandas/Lux', layout=Layout(top='5px', width='140px'), style=ButtonStyle())"
      ]
     },
     "metadata": {},
     "output_type": "display_data"
    },
    {
     "data": {
      "application/vnd.jupyter.widget-view+json": {
       "model_id": "aeb8823840a245bab87a7891c4bc9def",
       "version_major": 2,
       "version_minor": 0
      },
      "text/plain": [
       "Output()"
      ]
     },
     "metadata": {},
     "output_type": "display_data"
    }
   ],
   "source": [
    "number = LabelEncoder()\n",
    "df2[\"Party\"] = number.fit_transform(df2[\"Party\"])\n",
    "df2[\"Sex\"] = number.fit_transform(df2[\"Sex\"])\n",
    "df2[\"Ethnicity\"] = number.fit_transform(df2[\"Ethnicity\"])\n",
    "df2"
   ]
  },
  {
   "cell_type": "code",
   "execution_count": 21,
   "id": "6c5a2856",
   "metadata": {},
   "outputs": [
    {
     "data": {
      "application/vnd.jupyter.widget-view+json": {
       "model_id": "d90c4da84a5544f3a3aac6551e27b85d",
       "version_major": 2,
       "version_minor": 0
      },
      "text/plain": [
       "Button(description='Toggle Pandas/Lux', layout=Layout(top='5px', width='140px'), style=ButtonStyle())"
      ]
     },
     "metadata": {},
     "output_type": "display_data"
    },
    {
     "data": {
      "application/vnd.jupyter.widget-view+json": {
       "model_id": "253fb11830384476861d83e420ddaaec",
       "version_major": 2,
       "version_minor": 0
      },
      "text/plain": [
       "Output()"
      ]
     },
     "metadata": {},
     "output_type": "display_data"
    }
   ],
   "source": [
    "#Drop columns that doesn't impact Swing Voter chances\n",
    "df2.drop(columns=[\"Voter Score\"], inplace=True)\n",
    "df2"
   ]
  },
  {
   "cell_type": "code",
   "execution_count": 22,
   "id": "86d2ab72",
   "metadata": {},
   "outputs": [
    {
     "data": {
      "application/vnd.jupyter.widget-view+json": {
       "model_id": "c7cc45f00afd4274a4318000b10ec750",
       "version_major": 2,
       "version_minor": 0
      },
      "text/plain": [
       "Button(description='Toggle Pandas/Lux', layout=Layout(top='5px', width='140px'), style=ButtonStyle())"
      ]
     },
     "metadata": {},
     "output_type": "display_data"
    },
    {
     "data": {
      "application/vnd.jupyter.widget-view+json": {
       "model_id": "5a3f4b6d67354793a3db36d7c27c27aa",
       "version_major": 2,
       "version_minor": 0
      },
      "text/plain": [
       "Output()"
      ]
     },
     "metadata": {},
     "output_type": "display_data"
    }
   ],
   "source": [
    "df2.drop(columns=[\"Turnout Score\",\"Kids in HH\",\"Liberal Ideology\"], inplace=True)\n",
    "df2"
   ]
  },
  {
   "cell_type": "code",
   "execution_count": 25,
   "id": "eb603003",
   "metadata": {},
   "outputs": [
    {
     "data": {
      "application/vnd.jupyter.widget-view+json": {
       "model_id": "74213fc6b8aa464b8367ba7d5e2509f9",
       "version_major": 2,
       "version_minor": 0
      },
      "text/plain": [
       "Button(description='Toggle Pandas/Lux', layout=Layout(top='5px', width='140px'), style=ButtonStyle())"
      ]
     },
     "metadata": {},
     "output_type": "display_data"
    },
    {
     "data": {
      "application/vnd.jupyter.widget-view+json": {
       "model_id": "d41bad80ea964173a842bb79b8f6fea3",
       "version_major": 2,
       "version_minor": 0
      },
      "text/plain": [
       "Output()"
      ]
     },
     "metadata": {},
     "output_type": "display_data"
    }
   ],
   "source": [
    "df2.drop(columns=[\"Party\",\"Sex\",\"Ethnicity\"], inplace=True)\n",
    "df2"
   ]
  },
  {
   "cell_type": "code",
   "execution_count": 26,
   "id": "23be82c9",
   "metadata": {},
   "outputs": [
    {
     "data": {
      "application/vnd.jupyter.widget-view+json": {
       "model_id": "fd11d080a1ae4491957721b6c9a0a6dd",
       "version_major": 2,
       "version_minor": 0
      },
      "text/plain": [
       "LuxWidget(current_vis={'config': {'view': {'continuousWidth': 400, 'continuousHeight': 300}, 'axis': {'labelCo…"
      ]
     },
     "metadata": {},
     "output_type": "display_data"
    }
   ],
   "source": [
    "vis = df2.exported[0]\n",
    "vis"
   ]
  },
  {
   "cell_type": "code",
   "execution_count": 27,
   "id": "5e4bb8f2",
   "metadata": {},
   "outputs": [
    {
     "name": "stdout",
     "output_type": "stream",
     "text": [
      "import matplotlib.pyplot as plt\n",
      "plt.rcParams.update(\n",
      "            {\n",
      "                \"axes.titlesize\": 20,\n",
      "                \"axes.titleweight\": \"bold\",\n",
      "                \"axes.labelweight\": \"bold\",\n",
      "                \"axes.labelsize\": 16,\n",
      "                \"legend.fontsize\": 14,\n",
      "                \"legend.title_fontsize\": 15,\n",
      "                \"xtick.labelsize\": 13,\n",
      "                \"ytick.labelsize\": 13,\n",
      "            }\n",
      "        )\n",
      "import numpy as np\n",
      "from math import nan\n",
      "df = pd.DataFrame({'Age': {0: '18-24', 1: '18-24', 2: '25-34', 3: '25-34', 4: '35-44', 5: '35-44', 6: '45-54', 7: '45-54', 8: '55-64', 9: '55-64', 10: '65+', 11: '65+'}, 'Swing Voter': {0: 0, 1: 1, 2: 0, 3: 1, 4: 0, 5: 1, 6: 0, 7: 1, 8: 0, 9: 1, 10: 0, 11: 1}, 'Record': {0: 916, 1: 162, 2: 8721, 3: 1671, 4: 11162, 5: 2030, 6: 13310, 7: 2088, 8: 16851, 9: 2059, 10: 30963, 11: 2681}})\n",
      "fig, ax = plt.subplots()\n",
      "bars = df['Age']\n",
      "measurements = df['Record']\n",
      "ax.barh(['18-24', '25-34', '35-44', '45-54', '55-64', '65+'],[916, 8721, 11162, 13310, 16851, 30963], label='0')\n",
      "ax.barh(['18-24', '25-34', '35-44', '45-54', '55-64', '65+'],[162, 1671, 2030, 2088, 2059, 2681], label='1')\n",
      "ax.legend(title='Swing Voter', \n",
      "            bbox_to_anchor=(1.05, 1), \n",
      "            loc='upper left', \n",
      "            ncol=1, \n",
      "            frameon=False)\n",
      "ax.set_xlabel('Record')\n",
      "ax.set_ylabel('Age')\n",
      "\n",
      "fig\n"
     ]
    }
   ],
   "source": [
    "print (vis.to_code(\"matplotlib\"))"
   ]
  },
  {
   "cell_type": "code",
   "execution_count": 28,
   "id": "01ddf7cc",
   "metadata": {},
   "outputs": [
    {
     "data": {
      "image/png": "[encoded data removed]",
      "text/plain": [
       "<Figure size 432x288 with 1 Axes>"
      ]
     },
     "execution_count": 28,
     "metadata": {},
     "output_type": "execute_result"
    }
   ],
   "source": [
    "# Print Lux Graph in Matplotlib\n",
    "\n",
    "import matplotlib.pyplot as plt\n",
    "plt.rcParams.update(\n",
    "            {\n",
    "                \"axes.titlesize\": 20,\n",
    "                \"axes.titleweight\": \"bold\",\n",
    "                \"axes.labelweight\": \"bold\",\n",
    "                \"axes.labelsize\": 16,\n",
    "                \"legend.fontsize\": 14,\n",
    "                \"legend.title_fontsize\": 15,\n",
    "                \"xtick.labelsize\": 13,\n",
    "                \"ytick.labelsize\": 13,\n",
    "            }\n",
    "        )\n",
    "import numpy as np\n",
    "from math import nan\n",
    "df = pd.DataFrame({'Age': {0: '18-24', 1: '18-24', 2: '25-34', 3: '25-34', 4: '35-44', 5: '35-44', 6: '45-54', 7: '45-54', 8: '55-64', 9: '55-64', 10: '65+', 11: '65+'}, 'Swing Voter': {0: 0, 1: 1, 2: 0, 3: 1, 4: 0, 5: 1, 6: 0, 7: 1, 8: 0, 9: 1, 10: 0, 11: 1}, 'Record': {0: 916, 1: 162, 2: 8721, 3: 1671, 4: 11162, 5: 2030, 6: 13310, 7: 2088, 8: 16851, 9: 2059, 10: 30963, 11: 2681}})\n",
    "fig, ax = plt.subplots()\n",
    "bars = df['Age']\n",
    "measurements = df['Record']\n",
    "ax.barh(['18-24', '25-34', '35-44', '45-54', '55-64', '65+'],[916, 8721, 11162, 13310, 16851, 30963], label='0')\n",
    "ax.barh(['18-24', '25-34', '35-44', '45-54', '55-64', '65+'],[162, 1671, 2030, 2088, 2059, 2681], label='1')\n",
    "ax.legend(title='Swing Voter', \n",
    "            bbox_to_anchor=(1.05, 1), \n",
    "            loc='upper left', \n",
    "            ncol=1, \n",
    "            frameon=False)\n",
    "ax.set_xlabel('Record')\n",
    "ax.set_ylabel('Age')\n",
    "\n",
    "fig"
   ]
  },
  {
   "cell_type": "code",
   "execution_count": null,
   "id": "550bd451",
   "metadata": {},
   "outputs": [],
   "source": []
  }
 ],
 "metadata": {
  "kernelspec": {
   "display_name": "PythonData",
   "language": "python",
   "name": "pythondata"
  },
  "language_info": {
   "codemirror_mode": {
    "name": "ipython",
    "version": 3
   },
   "file_extension": ".py",
   "mimetype": "text/x-python",
   "name": "python",
   "nbconvert_exporter": "python",
   "pygments_lexer": "ipython3",
   "version": "3.8.8"
  }
 },
 "nbformat": 4,
 "nbformat_minor": 5
}
