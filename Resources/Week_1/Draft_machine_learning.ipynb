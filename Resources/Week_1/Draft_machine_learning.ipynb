{
 "cells": [
  {
   "cell_type": "code",
   "execution_count": null,
   "id": "cf3a72af",
   "metadata": {},
   "outputs": [],
   "source": [
    "#importing possible libraries and dependencies\n",
    "%matplotlib inline\n",
    "import matplotlib.pyplot as plt\n",
    "import numpy as np\n",
    "import warnings\n",
    "warnings.filterwarnings('ignore')\n",
    "import pandas as pd\n",
    "from path import Path"
   ]
  },
  {
   "cell_type": "code",
   "execution_count": null,
   "id": "b996dcfd",
   "metadata": {},
   "outputs": [],
   "source": [
    "# Load the crypto_data.csv dataset.\n",
    "#file path will be update to the table created in our sql database\n",
    "# file_path = \"/Users/lesleyrodriguez/Desktop/Arizona_Election_Project/Machine_learning/dummy data.csv\"\n",
    "file_path = \"C:/Users/leome/Documents/GITHUB/Class Work/Final_Project/Arizona_Election_Project/Resources/dummy data.csv\"\n",
    "Arizona_Election_df = pd.read_csv(file_path)\n",
    "Arizona_Election_df.head(10)\n",
    "\n"
   ]
  },
  {
   "cell_type": "code",
   "execution_count": null,
   "id": "c8101abb",
   "metadata": {},
   "outputs": [],
   "source": [
    "##Preprocessing The Data this step might not be needed once data is clean and database tables are set\n",
    "##and full with information needed \n",
    "\n"
   ]
  },
  {
   "cell_type": "code",
   "execution_count": null,
   "id": "0dee32ae",
   "metadata": {},
   "outputs": [],
   "source": [
    "#seeing all data types\n",
    "Arizona_Election_df.dtypes"
   ]
  },
  {
   "cell_type": "code",
   "execution_count": null,
   "id": "140c6fa5",
   "metadata": {},
   "outputs": [],
   "source": [
    "#Drop all columns contained unecesarry features or null nan \n",
    "Arizona_Election_df.drop(columns=[\"Turnout Score\"], inplace=True)\n",
    "Arizona_Election_df\n"
   ]
  },
  {
   "cell_type": "code",
   "execution_count": null,
   "id": "edea7207",
   "metadata": {},
   "outputs": [],
   "source": [
    "#drop any null or nan in the data frame \n",
    "Arizona_Election_df.dropna(axis = 0, how = \"any\", thresh = None, subset = None, inplace=False)\n",
    "Arizona_Election_df\n"
   ]
  },
  {
   "cell_type": "code",
   "execution_count": null,
   "id": "5e6b937d",
   "metadata": {},
   "outputs": [],
   "source": [
    "#converting label columns from txt to numerical model can only work with numberical numbers\n",
    "X = pd.get_dummies(Arizona_Election_df, columns=[\"Sex\",\"Party\",]).drop('Partisan Score', axis=1)\n",
    "\n",
    "# Create our target\n",
    "y = Arizona_Election_df['Partisan Score']\n",
    "X.head()"
   ]
  },
  {
   "cell_type": "code",
   "execution_count": null,
   "id": "a5aee9b0",
   "metadata": {},
   "outputs": [],
   "source": [
    "X.describe()"
   ]
  },
  {
   "cell_type": "code",
   "execution_count": null,
   "id": "7db5a6f4",
   "metadata": {},
   "outputs": [],
   "source": [
    "#check the balance of our taget very important can be hindering\n",
    "X.value_counts()"
   ]
  },
  {
   "cell_type": "code",
   "execution_count": null,
   "id": "5c244990",
   "metadata": {},
   "outputs": [],
   "source": [
    "#check the balance of our target very important spent a good time trying to figurere out \n",
    "y.value_counts()"
   ]
  },
  {
   "cell_type": "code",
   "execution_count": null,
   "id": "e48a6bec",
   "metadata": {},
   "outputs": [],
   "source": [
    "from sklearn.model_selection import train_test_split\n",
    "\n",
    "X_train, X_test, y_train, y_test = train_test_split(X, \n",
    "                                                    y, \n",
    "                                                    random_state=1, \n",
    "                                                    stratify=y)"
   ]
  },
  {
   "cell_type": "code",
   "execution_count": null,
   "id": "142d0874",
   "metadata": {
    "scrolled": true
   },
   "outputs": [],
   "source": [
    "# importing train_test_split from sklearn\n",
    "from sklearn.model_selection import train_test_split\n",
    "# splitting the data\n",
    "x_train, x_test, y_train, y_test = train_test_split(x, y, test_size = 0.2, random_state = 42) "
   ]
  },
  {
   "cell_type": "code",
   "execution_count": null,
   "id": "7a325e10",
   "metadata": {},
   "outputs": [],
   "source": [
    "# importing module\n",
    "from sklearn.linear_model import LinearRegression\n",
    "# creating our model and assigning its function\n",
    "model = LinearRegression()\n",
    "# fitting the training data\n",
    "model .fit(x,y)"
   ]
  },
  {
   "cell_type": "code",
   "execution_count": null,
   "id": "c50021da",
   "metadata": {},
   "outputs": [],
   "source": [
    "y_prediction =  model.predict(x_test)\n",
    "y_prediction"
   ]
  },
  {
   "cell_type": "code",
   "execution_count": null,
   "id": "06690bb9",
   "metadata": {},
   "outputs": [],
   "source": [
    "# importing r2_score module\n",
    "from sklearn.linear_model import LinearRegression\n",
    "model = LinearRegression()\n",
    "\n",
    "# Fitting our model with all our features in X\n",
    "model.fit(X, y)\n",
    "\n",
    "score = model.score(X, y)\n",
    "print(f\"R2 Score: {score}\")"
   ]
  },
  {
   "cell_type": "code",
   "execution_count": null,
   "id": "c1ff7a16",
   "metadata": {},
   "outputs": [],
   "source": []
  }
 ],
 "metadata": {
  "kernelspec": {
   "display_name": "mlenv",
   "language": "python",
   "name": "mlenv"
  },
  "language_info": {
   "codemirror_mode": {
    "name": "ipython",
    "version": 3
   },
   "file_extension": ".py",
   "mimetype": "text/x-python",
   "name": "python",
   "nbconvert_exporter": "python",
   "pygments_lexer": "ipython3",
   "version": "3.8.8"
  }
 },
 "nbformat": 4,
 "nbformat_minor": 5
}
